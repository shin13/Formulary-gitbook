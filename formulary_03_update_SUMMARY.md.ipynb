{
 "cells": [
  {
   "cell_type": "code",
   "execution_count": 9,
   "id": "a3a0450b",
   "metadata": {
    "ExecuteTime": {
     "end_time": "2021-11-01T07:59:21.762273Z",
     "start_time": "2021-11-01T07:59:21.758283Z"
    }
   },
   "outputs": [],
   "source": [
    "import os\n",
    "import re\n",
    "import pandas as pd"
   ]
  },
  {
   "cell_type": "code",
   "execution_count": 10,
   "id": "f0fbce1f",
   "metadata": {
    "ExecuteTime": {
     "end_time": "2021-11-01T07:59:22.058506Z",
     "start_time": "2021-11-01T07:59:22.052521Z"
    }
   },
   "outputs": [],
   "source": [
    "os.rename('SUMMARY.md', 'SUMMARY_old.md')"
   ]
  },
  {
   "cell_type": "code",
   "execution_count": 11,
   "id": "9b89569d",
   "metadata": {
    "ExecuteTime": {
     "end_time": "2021-11-01T07:59:22.398595Z",
     "start_time": "2021-11-01T07:59:22.388622Z"
    }
   },
   "outputs": [],
   "source": [
    "# Remove lines of pages, keep toc contents\n",
    "\n",
    "# list to store file lines\n",
    "lines = []\n",
    "\n",
    "# Read file\n",
    "with open('SUMMARY_old.md', 'r', encoding='big5hkscs') as f:\n",
    "    # read an store all lines into list\n",
    "    lines = f.readlines()\n",
    "\n",
    "# Write file\n",
    "with open('toc.md', 'w', encoding='utf8') as f:\n",
    "    # iterate each line\n",
    "    for number, line in enumerate(lines):\n",
    "        # note list index starts from 0\n",
    "        if number not in list(range(8)):\n",
    "            f.write(line)"
   ]
  },
  {
   "cell_type": "code",
   "execution_count": 12,
   "id": "0c61f54d",
   "metadata": {
    "ExecuteTime": {
     "end_time": "2021-11-01T07:59:22.710760Z",
     "start_time": "2021-11-01T07:59:22.701785Z"
    }
   },
   "outputs": [],
   "source": [
    "start_lines = ['# Table of contents\\n', '* [首頁](README.md)\\n', '* [目錄](toc/README.md)\\n']\n",
    "end_lines = ['* [附錄](appendix.md)\\n', '* [索引](index.md)\\n', '* [常用連結](links.md)\\n', '* [更新歷程](changelog.md)']\n",
    "toc_lines = []\n",
    "\n",
    "with open('toc.md', 'r', encoding='utf8') as f:\n",
    "    # read an store all lines into list\n",
    "    toc_lines = f.readlines()\n",
    "\n",
    "with open('SUMMARY_test.md', 'w', encoding='utf8') as f:\n",
    "    f.writelines(start_lines)\n",
    "    f.writelines(toc_lines)\n",
    "    f.writelines(end_lines)\n",
    "    f.write('\\n')"
   ]
  },
  {
   "cell_type": "code",
   "execution_count": 13,
   "id": "98386017",
   "metadata": {
    "ExecuteTime": {
     "end_time": "2021-11-01T07:59:22.988019Z",
     "start_time": "2021-11-01T07:59:22.981038Z"
    }
   },
   "outputs": [],
   "source": [
    "# Replace slash characters\n",
    "\n",
    "with open('SUMMARY_test.md', 'r', encoding='utf8') as f:\n",
    "    contents = f.read()\n",
    "    \n",
    "contents = contents.replace('\\\\', '/')\n",
    "\n",
    "with open('SUMMARY_test.md', 'w', encoding='utf8') as f:\n",
    "    f.write(contents)"
   ]
  },
  {
   "cell_type": "code",
   "execution_count": 14,
   "id": "283576d8",
   "metadata": {
    "ExecuteTime": {
     "end_time": "2021-11-01T07:59:23.360023Z",
     "start_time": "2021-11-01T07:59:23.294200Z"
    }
   },
   "outputs": [],
   "source": [
    "cat_list = pd.read_excel('cat_ref.xlsx')\n",
    "cat_list['code'] = '[' + cat_list['code'].astype(str) + ']'\n",
    "cat_list['name'] = '[' + cat_list['name'].astype(str) + ']'\n",
    "\n",
    "with open('SUMMARY_test.md', 'r+', encoding=\"utf-8\") as f:\n",
    "    contents = f.read()\n",
    "\n",
    "rep = dict(zip(cat_list['code'], cat_list['name']))\n",
    "rep = dict((re.escape(k), v) for k, v in rep.items())\n",
    "pattern = re.compile(\"|\".join(rep.keys()))\n",
    "text = pattern.sub(lambda m: rep[re.escape(m.group(0))], contents)\n",
    "# Remove blank lines\n",
    "text = re.sub(r'\\n\\s*\\n', '\\n', text)\n",
    "\n",
    "text = text.replace('[Alanine 8.2% And Glutamine 13.64%]', '[Alanine And Glutamine]')\n",
    "text = text.replace('alanine_8.2%_and_glutamine_13.64%.md', 'alanine_and_glutamine.md')\n",
    "try:\n",
    "    os.rename(r'C:\\Users\\152551\\formulary-gitbook\\toc\\nu-00-00\\nu-04-00\\nu-04-01\\alanine_8.2%_and_glutamine_13.64%.md', r'C:\\Users\\152551\\formulary-gitbook\\toc\\nu-00-00\\nu-04-00\\nu-04-01\\alanine_and_glutamine.md')\n",
    "except:\n",
    "    pass\n",
    "with open('SUMMARY_test.md', 'w', encoding='utf-8') as f:\n",
    "    f.write(text)"
   ]
  },
  {
   "cell_type": "code",
   "execution_count": 15,
   "id": "d82a6b42",
   "metadata": {
    "ExecuteTime": {
     "end_time": "2021-11-01T07:59:24.005765Z",
     "start_time": "2021-11-01T07:59:23.997780Z"
    }
   },
   "outputs": [],
   "source": [
    "bad_words = ['[Readme]']\n",
    "\n",
    "with open('SUMMARY_test.md', 'r', encoding='utf8') as oldfile, open('SUMMARY.md', 'w', encoding='utf8') as newfile:\n",
    "    for line in oldfile:\n",
    "        if not any(bad_word in line for bad_word in bad_words):\n",
    "            newfile.write(line)"
   ]
  },
  {
   "cell_type": "code",
   "execution_count": 16,
   "id": "741b0e5c",
   "metadata": {
    "ExecuteTime": {
     "end_time": "2021-11-01T07:59:24.265064Z",
     "start_time": "2021-11-01T07:59:24.260077Z"
    }
   },
   "outputs": [],
   "source": [
    "lst = ['SUMMARY_old.md', 'toc.md', 'SUMMARY_test.md']\n",
    "for i in lst:\n",
    "    os.remove(i)"
   ]
  },
  {
   "cell_type": "code",
   "execution_count": null,
   "id": "487a95ed",
   "metadata": {},
   "outputs": [],
   "source": []
  }
 ],
 "metadata": {
  "kernelspec": {
   "display_name": "Python 3 (ipykernel)",
   "language": "python",
   "name": "python3"
  },
  "language_info": {
   "codemirror_mode": {
    "name": "ipython",
    "version": 3
   },
   "file_extension": ".py",
   "mimetype": "text/x-python",
   "name": "python",
   "nbconvert_exporter": "python",
   "pygments_lexer": "ipython3",
   "version": "3.9.6"
  },
  "varInspector": {
   "cols": {
    "lenName": 16,
    "lenType": 16,
    "lenVar": 40
   },
   "kernels_config": {
    "python": {
     "delete_cmd_postfix": "",
     "delete_cmd_prefix": "del ",
     "library": "var_list.py",
     "varRefreshCmd": "print(var_dic_list())"
    },
    "r": {
     "delete_cmd_postfix": ") ",
     "delete_cmd_prefix": "rm(",
     "library": "var_list.r",
     "varRefreshCmd": "cat(var_dic_list()) "
    }
   },
   "types_to_exclude": [
    "module",
    "function",
    "builtin_function_or_method",
    "instance",
    "_Feature"
   ],
   "window_display": false
  }
 },
 "nbformat": 4,
 "nbformat_minor": 5
}
