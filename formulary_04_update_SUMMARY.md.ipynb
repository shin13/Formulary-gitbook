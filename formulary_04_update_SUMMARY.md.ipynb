{
 "cells": [
  {
   "cell_type": "code",
   "execution_count": 1,
   "id": "a3a0450b",
   "metadata": {
    "ExecuteTime": {
     "end_time": "2021-10-27T09:13:39.050318Z",
     "start_time": "2021-10-27T09:13:38.464608Z"
    }
   },
   "outputs": [],
   "source": [
    "import os\n",
    "import re\n",
    "import pandas as pd"
   ]
  },
  {
   "cell_type": "code",
   "execution_count": 2,
   "id": "f0fbce1f",
   "metadata": {
    "ExecuteTime": {
     "end_time": "2021-10-27T09:13:39.082026Z",
     "start_time": "2021-10-27T09:13:39.077009Z"
    }
   },
   "outputs": [],
   "source": [
    "os.rename('SUMMARY.md', 'SUMMARY_old.md')"
   ]
  },
  {
   "cell_type": "code",
   "execution_count": 3,
   "id": "9b89569d",
   "metadata": {
    "ExecuteTime": {
     "end_time": "2021-10-27T09:13:39.748851Z",
     "start_time": "2021-10-27T09:13:39.733200Z"
    }
   },
   "outputs": [],
   "source": [
    "# Remove lines of pages, keep toc contents\n",
    "\n",
    "# list to store file lines\n",
    "lines = []\n",
    "\n",
    "# Read file\n",
    "with open('SUMMARY_old.md', 'r', encoding='big5hkscs') as f:\n",
    "    # read an store all lines into list\n",
    "    lines = f.readlines()\n",
    "\n",
    "# Write file\n",
    "with open('toc.md', 'w', encoding='utf8') as f:\n",
    "    # iterate each line\n",
    "    for number, line in enumerate(lines):\n",
    "        # note list index starts from 0\n",
    "        if number not in list(range(8)):\n",
    "            f.write(line)"
   ]
  },
  {
   "cell_type": "code",
   "execution_count": 4,
   "id": "0c61f54d",
   "metadata": {
    "ExecuteTime": {
     "end_time": "2021-10-27T09:13:40.359709Z",
     "start_time": "2021-10-27T09:13:40.350735Z"
    }
   },
   "outputs": [],
   "source": [
    "start_lines = ['# Table of contents\\n', '* [首頁](README.md)\\n', '* [目錄](toc/README.md)\\n']\n",
    "end_lines = ['* [附錄](appendix.md)\\n', '* [更新歷程](changelog.md)\\n', '* [索引](index.md)\\n', '* [常用連結](links.md)']\n",
    "toc_lines = []\n",
    "\n",
    "with open('toc.md', 'r', encoding='utf8') as f:\n",
    "    # read an store all lines into list\n",
    "    toc_lines = f.readlines()\n",
    "\n",
    "with open('SUMMARY_test.md', 'w', encoding='utf8') as f:\n",
    "    f.writelines(start_lines)\n",
    "    f.writelines(toc_lines)\n",
    "    f.writelines(end_lines)\n",
    "    f.write('\\n')"
   ]
  },
  {
   "cell_type": "code",
   "execution_count": 5,
   "id": "98386017",
   "metadata": {
    "ExecuteTime": {
     "end_time": "2021-10-27T09:13:41.164266Z",
     "start_time": "2021-10-27T09:13:41.157281Z"
    }
   },
   "outputs": [],
   "source": [
    "# Replace slash characters\n",
    "\n",
    "with open('SUMMARY_test.md', 'r', encoding='utf8') as f:\n",
    "    contents = f.read()\n",
    "    \n",
    "contents = contents.replace('\\\\', '/')\n",
    "\n",
    "with open('SUMMARY_test.md', 'w', encoding='utf8') as f:\n",
    "    f.write(contents)"
   ]
  },
  {
   "cell_type": "code",
   "execution_count": 6,
   "id": "283576d8",
   "metadata": {
    "ExecuteTime": {
     "end_time": "2021-10-27T09:13:42.383432Z",
     "start_time": "2021-10-27T09:13:41.798583Z"
    }
   },
   "outputs": [],
   "source": [
    "cat_list = pd.read_excel('cat_ref2.xlsx')\n",
    "cat_list['code'] = '[' + cat_list['code'].astype(str) + ']'\n",
    "cat_list['name'] = '[' + cat_list['name'].astype(str) + ']'\n",
    "\n",
    "with open('SUMMARY_test.md', 'r+', encoding=\"utf-8\") as f:\n",
    "    contents = f.read()\n",
    "\n",
    "rep = dict(zip(cat_list['code'], cat_list['name']))\n",
    "rep = dict((re.escape(k), v) for k, v in rep.items())\n",
    "pattern = re.compile(\"|\".join(rep.keys()))\n",
    "text = pattern.sub(lambda m: rep[re.escape(m.group(0))], contents)\n",
    "# Remove blank lines\n",
    "text = re.sub(r'\\n\\s*\\n', '\\n', text)\n",
    "\n",
    "text = text.replace('[Alanine 8.2% And Glutamine 13.64%]', '[Alanine And Glutamine]')\n",
    "text = text.replace('alanine_8.2%_and_glutamine_13.64%.md', 'alanine_and_glutamine.md')\n",
    "\n",
    "\n",
    "with open('SUMMARY_test.md', 'w', encoding='utf-8') as f:\n",
    "    f.write(text)"
   ]
  },
  {
   "cell_type": "code",
   "execution_count": 7,
   "id": "84a43b99",
   "metadata": {
    "ExecuteTime": {
     "end_time": "2021-10-27T09:13:43.611116Z",
     "start_time": "2021-10-27T09:13:43.607131Z"
    }
   },
   "outputs": [],
   "source": [
    "os.rename('SUMMARY_test.md', 'SUMMARY.md')"
   ]
  },
  {
   "cell_type": "code",
   "execution_count": 8,
   "id": "741b0e5c",
   "metadata": {
    "ExecuteTime": {
     "end_time": "2021-10-27T09:13:44.108191Z",
     "start_time": "2021-10-27T09:13:44.103237Z"
    }
   },
   "outputs": [],
   "source": [
    "os.remove('SUMMARY_old.md')"
   ]
  },
  {
   "cell_type": "code",
   "execution_count": 9,
   "id": "6b97b968",
   "metadata": {
    "ExecuteTime": {
     "end_time": "2021-10-27T09:13:44.609016Z",
     "start_time": "2021-10-27T09:13:44.604997Z"
    }
   },
   "outputs": [],
   "source": [
    "os.remove('toc.md')"
   ]
  },
  {
   "cell_type": "code",
   "execution_count": null,
   "id": "edf8aa37",
   "metadata": {
    "ExecuteTime": {
     "end_time": "2021-10-27T09:12:39.738406Z",
     "start_time": "2021-10-27T09:12:39.734389Z"
    }
   },
   "outputs": [],
   "source": [
    "os.rename(r'C:\\Users\\152551\\formulary-gitbook\\toc\\nu-00-00\\nu-04-00\\nu-04-01\\alanine_8.2%_and_glutamine_13.64%.md', r'C:\\Users\\152551\\formulary-gitbook\\toc\\nu-00-00\\nu-04-00\\nu-04-01\\alanine_and_glutamine.md')"
   ]
  },
  {
   "cell_type": "code",
   "execution_count": null,
   "id": "c18f77f4",
   "metadata": {},
   "outputs": [],
   "source": []
  }
 ],
 "metadata": {
  "kernelspec": {
   "display_name": "Python 3 (ipykernel)",
   "language": "python",
   "name": "python3"
  },
  "language_info": {
   "codemirror_mode": {
    "name": "ipython",
    "version": 3
   },
   "file_extension": ".py",
   "mimetype": "text/x-python",
   "name": "python",
   "nbconvert_exporter": "python",
   "pygments_lexer": "ipython3",
   "version": "3.9.6"
  },
  "varInspector": {
   "cols": {
    "lenName": 16,
    "lenType": 16,
    "lenVar": 40
   },
   "kernels_config": {
    "python": {
     "delete_cmd_postfix": "",
     "delete_cmd_prefix": "del ",
     "library": "var_list.py",
     "varRefreshCmd": "print(var_dic_list())"
    },
    "r": {
     "delete_cmd_postfix": ") ",
     "delete_cmd_prefix": "rm(",
     "library": "var_list.r",
     "varRefreshCmd": "cat(var_dic_list()) "
    }
   },
   "types_to_exclude": [
    "module",
    "function",
    "builtin_function_or_method",
    "instance",
    "_Feature"
   ],
   "window_display": false
  }
 },
 "nbformat": 4,
 "nbformat_minor": 5
}
