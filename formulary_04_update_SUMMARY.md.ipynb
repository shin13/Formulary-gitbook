{
 "cells": [
  {
   "cell_type": "code",
   "execution_count": 13,
   "id": "a3a0450b",
   "metadata": {
    "ExecuteTime": {
     "end_time": "2021-10-26T08:40:30.717982Z",
     "start_time": "2021-10-26T08:40:30.712995Z"
    }
   },
   "outputs": [],
   "source": [
    "import os"
   ]
  },
  {
   "cell_type": "code",
   "execution_count": 14,
   "id": "f0fbce1f",
   "metadata": {
    "ExecuteTime": {
     "end_time": "2021-10-26T08:40:31.168805Z",
     "start_time": "2021-10-26T08:40:31.163819Z"
    }
   },
   "outputs": [],
   "source": [
    "os.rename('SUMMARY.md', 'SUMMARY_old.md')"
   ]
  },
  {
   "cell_type": "code",
   "execution_count": 15,
   "id": "a2c14cb8",
   "metadata": {
    "ExecuteTime": {
     "end_time": "2021-10-26T08:40:36.529310Z",
     "start_time": "2021-10-26T08:40:36.525321Z"
    }
   },
   "outputs": [],
   "source": [
    "import re"
   ]
  },
  {
   "cell_type": "code",
   "execution_count": 20,
   "id": "9b89569d",
   "metadata": {
    "ExecuteTime": {
     "end_time": "2021-10-26T08:43:24.078544Z",
     "start_time": "2021-10-26T08:43:24.070534Z"
    }
   },
   "outputs": [],
   "source": [
    "# Remove lines of pages, keep toc contents\n",
    "\n",
    "# list to store file lines\n",
    "lines = []\n",
    "\n",
    "# Read file\n",
    "with open('SUMMARY_old.md', 'r', encoding='big5hkscs') as f:\n",
    "    # read an store all lines into list\n",
    "    lines = f.readlines()\n",
    "\n",
    "# Write file\n",
    "with open('toc.md', 'w', encoding='utf8') as f:\n",
    "    # iterate each line\n",
    "    for number, line in enumerate(lines):\n",
    "        # note list index starts from 0\n",
    "        if number not in list(range(8)):\n",
    "            f.write(line)"
   ]
  },
  {
   "cell_type": "code",
   "execution_count": 42,
   "id": "0c61f54d",
   "metadata": {
    "ExecuteTime": {
     "end_time": "2021-10-26T09:03:15.811974Z",
     "start_time": "2021-10-26T09:03:15.803965Z"
    }
   },
   "outputs": [],
   "source": [
    "start_lines = ['# Table of contents\\n', '* [首頁](README.md)\\n', '* [目錄](toc/README.md)\\n']\n",
    "end_lines = ['* [附錄](appendix.md)\\n', '* [更新歷程](changelog.md)\\n', '* [索引](index.md)\\n', '* [常用連結](links.md)']\n",
    "toc_lines = []\n",
    "\n",
    "with open('toc.md', 'r', encoding='utf8') as f:\n",
    "    # read an store all lines into list\n",
    "    toc_lines = f.readlines()\n",
    "\n",
    "with open('SUMMARY_test.md', 'w', encoding='utf8') as f:\n",
    "    f.writelines(start_lines)\n",
    "    f.writelines(toc_lines)\n",
    "    f.writelines(end_lines)\n",
    "    f.write('\\n')"
   ]
  },
  {
   "cell_type": "code",
   "execution_count": 43,
   "id": "98386017",
   "metadata": {
    "ExecuteTime": {
     "end_time": "2021-10-26T09:03:16.801931Z",
     "start_time": "2021-10-26T09:03:16.795918Z"
    }
   },
   "outputs": [],
   "source": [
    "# Replace slash characters\n",
    "\n",
    "with open('SUMMARY_test.md', 'r', encoding='utf8') as f:\n",
    "    contents = f.read()\n",
    "    \n",
    "contents = contents.replace('\\\\', '/')\n",
    "\n",
    "with open('SUMMARY_test.md', 'w', encoding='utf8') as f:\n",
    "    f.write(contents)"
   ]
  },
  {
   "cell_type": "code",
   "execution_count": 46,
   "id": "283576d8",
   "metadata": {
    "ExecuteTime": {
     "end_time": "2021-10-26T09:04:36.274366Z",
     "start_time": "2021-10-26T09:04:36.236995Z"
    }
   },
   "outputs": [],
   "source": [
    "import pandas as pd\n",
    "\n",
    "cat_list = pd.read_excel('cat_ref2.xlsx')\n",
    "cat_list['code'] = '[' + cat_list['code'].astype(str) + ']'\n",
    "cat_list['name'] = '[' + cat_list['name'].astype(str) + ']'\n",
    "\n",
    "with open('SUMMARY_test.md', 'r+', encoding=\"utf-8\") as f:\n",
    "    contents = f.read()\n",
    "\n",
    "rep = dict(zip(cat_list['code'], cat_list['name']))\n",
    "rep = dict((re.escape(k), v) for k, v in rep.items())\n",
    "pattern = re.compile(\"|\".join(rep.keys()))\n",
    "text = pattern.sub(lambda m: rep[re.escape(m.group(0))], contents)\n",
    "# Remove blank lines\n",
    "text = re.sub(r'\\n\\s*\\n', '\\n', text)\n",
    "with open('SUMMARY_test.md', 'w', encoding='utf-8') as f:\n",
    "    f.write(text)"
   ]
  },
  {
   "cell_type": "code",
   "execution_count": 48,
   "id": "84a43b99",
   "metadata": {
    "ExecuteTime": {
     "end_time": "2021-10-26T09:07:04.107200Z",
     "start_time": "2021-10-26T09:07:04.101216Z"
    }
   },
   "outputs": [],
   "source": [
    "os.remove('SUMMARY.md')\n",
    "os.rename('SUMMARY_test.md', 'SUMMARY.md')"
   ]
  },
  {
   "cell_type": "code",
   "execution_count": null,
   "id": "741b0e5c",
   "metadata": {},
   "outputs": [],
   "source": []
  }
 ],
 "metadata": {
  "kernelspec": {
   "display_name": "Python 3 (ipykernel)",
   "language": "python",
   "name": "python3"
  },
  "language_info": {
   "codemirror_mode": {
    "name": "ipython",
    "version": 3
   },
   "file_extension": ".py",
   "mimetype": "text/x-python",
   "name": "python",
   "nbconvert_exporter": "python",
   "pygments_lexer": "ipython3",
   "version": "3.9.6"
  },
  "varInspector": {
   "cols": {
    "lenName": 16,
    "lenType": 16,
    "lenVar": 40
   },
   "kernels_config": {
    "python": {
     "delete_cmd_postfix": "",
     "delete_cmd_prefix": "del ",
     "library": "var_list.py",
     "varRefreshCmd": "print(var_dic_list())"
    },
    "r": {
     "delete_cmd_postfix": ") ",
     "delete_cmd_prefix": "rm(",
     "library": "var_list.r",
     "varRefreshCmd": "cat(var_dic_list()) "
    }
   },
   "types_to_exclude": [
    "module",
    "function",
    "builtin_function_or_method",
    "instance",
    "_Feature"
   ],
   "window_display": false
  }
 },
 "nbformat": 4,
 "nbformat_minor": 5
}
