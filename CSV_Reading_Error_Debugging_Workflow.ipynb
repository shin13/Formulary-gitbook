{
  "cells": [
    {
      "cell_type": "code",
      "source": [
        "'''\n",
        "Debugging Process for CSV File Reading Failures\n",
        "說明：本筆記本記錄了CSV檔案讀取失敗的除錯流程\n",
        "1. 識別並計算錯誤出現次數\n",
        "2. 定位錯誤在檔案中的具體位置\n",
        "3. 確定包含錯誤的行號\n",
        "4. 根據上述資訊，精確定位錯誤位置，並返回HIS資料庫（藥局管理系統）進行資料內容的手動修正\n",
        "5. 重新導出修正後的CSV檔案\n",
        "6. 重新測試檔案讀取，驗證除錯是否成功\n",
        "\n",
        "Description: This notebook documents the debugging process for CSV file reading failures.\n",
        "1. Identify and count error occurrences\n",
        "2. Locate the specific positions of errors within the file\n",
        "3. Determine the line numbers containing errors\n",
        "4. Based on the above information, precisely locate error positions and return to the HIS database (Pharmacy Management System) for manual data content correction\n",
        "5. Re-export the corrected CSV file\n",
        "6. Retest file reading to verify successful debugging\n",
        "'''"
      ],
      "metadata": {
        "id": "YGewRfDJofDe"
      },
      "execution_count": null,
      "outputs": []
    },
    {
      "cell_type": "code",
      "execution_count": null,
      "metadata": {
        "id": "lIYdn1woOS1n"
      },
      "outputs": [],
      "source": [
        "import pandas as pd"
      ]
    },
    {
      "cell_type": "code",
      "source": [
        "path = \"/content/2.藥物諮詢.csv\""
      ],
      "metadata": {
        "id": "9bnNZc1vZlPf"
      },
      "execution_count": null,
      "outputs": []
    },
    {
      "cell_type": "code",
      "source": [
        "import pandas as pd\n",
        "import io\n",
        "\n",
        "# Try with 'utf-8' encoding\n",
        "try:\n",
        "    with open(path, 'r', encoding='utf-8') as file:\n",
        "        content = file.read()\n",
        "    csv_data = pd.read_csv(io.StringIO(content))\n",
        "    print(\"Successfully read with utf-8 encoding\")\n",
        "    print(csv_data.head())\n",
        "except UnicodeDecodeError:\n",
        "    print(\"Failed to read with utf-8 encoding\")\n",
        "\n",
        "# If utf-8 fails, try with 'cp950' (Traditional Chinese)\n",
        "    try:\n",
        "        with open(path, 'r', encoding='cp950') as file:\n",
        "            content = file.read()\n",
        "        csv_data = pd.read_csv(io.StringIO(content))\n",
        "        print(\"Successfully read with cp950 encoding\")\n",
        "        print(csv_data.head())\n",
        "    except UnicodeDecodeError:\n",
        "        print(\"Failed to read with cp950 encoding\")\n"
      ],
      "metadata": {
        "id": "Vq-Pr4a4bsbt",
        "outputId": "3215c46f-f044-4db3-e194-35d26b661907",
        "colab": {
          "base_uri": "https://localhost:8080/"
        }
      },
      "execution_count": null,
      "outputs": [
        {
          "output_type": "stream",
          "name": "stdout",
          "text": [
            "Failed to read with utf-8 encoding\n",
            "Failed to read with cp950 encoding\n"
          ]
        }
      ]
    },
    {
      "cell_type": "code",
      "source": [
        "import pandas as pd\n",
        "import io\n",
        "\n",
        "# Try with 'big5' encoding\n",
        "try:\n",
        "    with open(path, 'r', encoding='big5') as file:\n",
        "        content = file.read()\n",
        "    csv_data = pd.read_csv(io.StringIO(content))\n",
        "    print(\"Successfully read with big5 encoding\")\n",
        "    print(csv_data.head())\n",
        "except UnicodeDecodeError:\n",
        "    print(\"Failed to read with big5 encoding\")\n",
        "\n",
        "# If big5 fails, try with 'big5hkscs' (Traditional Chinese)\n",
        "    try:\n",
        "        with open(path, 'r', encoding='big5hkscs') as file:\n",
        "            content = file.read()\n",
        "        csv_data = pd.read_csv(io.StringIO(content))\n",
        "        print(\"Successfully read with big5hkscs encoding\")\n",
        "        print(csv_data.head())\n",
        "    except UnicodeDecodeError:\n",
        "        print(\"Failed to read with big5hkscs encoding\")\n"
      ],
      "metadata": {
        "id": "wmWov2vTf3qp",
        "outputId": "871bc560-b7e7-4285-bf05-2f39c3577e32",
        "colab": {
          "base_uri": "https://localhost:8080/"
        }
      },
      "execution_count": null,
      "outputs": [
        {
          "output_type": "stream",
          "name": "stdout",
          "text": [
            "Failed to read with big5 encoding\n",
            "Failed to read with big5hkscs encoding\n"
          ]
        }
      ]
    },
    {
      "cell_type": "code",
      "source": [
        "import pandas as pd\n",
        "import io\n",
        "\n",
        "# Read file in binary mode\n",
        "with open(path, 'rb') as file:\n",
        "    content = file.read()\n",
        "\n",
        "# Try different encodings\n",
        "encodings_to_try = ['utf-8', 'big5', 'gb18030', 'cp950', 'shift_jis', 'big5hkscs']\n",
        "\n",
        "for enc in encodings_to_try:\n",
        "    try:\n",
        "        decoded_content = content.decode(enc)\n",
        "        csv_data = pd.read_csv(io.StringIO(decoded_content))\n",
        "        print(f\"Successfully read with {enc} encoding\")\n",
        "        print(csv_data.head())\n",
        "        break\n",
        "    except (UnicodeDecodeError, pd.errors.ParserError):\n",
        "        print(f\"Failed to read with {enc} encoding\")\n"
      ],
      "metadata": {
        "id": "YpXqVXqieku4",
        "outputId": "50cce72c-0425-4704-e66c-cfc8872c33d1",
        "colab": {
          "base_uri": "https://localhost:8080/"
        }
      },
      "execution_count": null,
      "outputs": [
        {
          "output_type": "stream",
          "name": "stdout",
          "text": [
            "Failed to read with utf-8 encoding\n",
            "Failed to read with big5 encoding\n",
            "Failed to read with gb18030 encoding\n",
            "Failed to read with cp950 encoding\n",
            "Failed to read with shift_jis encoding\n",
            "Failed to read with big5hkscs encoding\n"
          ]
        }
      ]
    },
    {
      "cell_type": "code",
      "source": [
        "import pandas as pd\n",
        "import io\n",
        "\n",
        "# Read file with error handling\n",
        "with open(path, 'r', encoding='big5hkscs', errors='replace') as file:\n",
        "    content = file.read()\n",
        "    replacement_char = '\\ufffd'  # Unicode replacement character\n",
        "    num_replacements = content.count(replacement_char)\n",
        "    print(f\"Number of replaced characters: {num_replacements}\")\n",
        "\n",
        "\n",
        "csv_data = pd.read_csv(io.StringIO(content))\n",
        "print(\"Read file with error handling\")\n",
        "print(csv_data.head())\n",
        "\n",
        "with open(path, 'rb') as file:\n",
        "    original_content = file.read()\n",
        "\n",
        "print(f\"Original file length: {len(original_content)} bytes\")\n",
        "print(f\"Decoded content length: {len(content.encode('utf-8'))} bytes\")\n"
      ],
      "metadata": {
        "id": "3aqAa0ozZ89p",
        "outputId": "f144b2ec-584b-412d-8131-5ee2e6b29ac5",
        "colab": {
          "base_uri": "https://localhost:8080/"
        }
      },
      "execution_count": null,
      "outputs": [
        {
          "output_type": "stream",
          "name": "stdout",
          "text": [
            "Number of replaced characters: 7\n",
            "Read file with error handling\n",
            "    藥品代碼                     藥品學名                       藥品名稱  藥品分類  \\\n",
            "0   OEZE                Ezetimibe               Ezetrol 10mg  CAVS   \n",
            "1  OELME        Dihydroergotoxine               Elmesatt 2mg  CAVS   \n",
            "2  OCHA1              Varenicline                CHAMPIX 1mg  ZADT   \n",
            "3   EAZE               Azelastine  Azela nasal spray 100dose  TENT   \n",
            "4   EPAT  NaCl + KCl + Boric Acid     Patear eye lotion 10mL  TOPH   \n",
            "\n",
            "                                   適應症  \\\n",
            "0                                  NaN   \n",
            "1                                  NaN   \n",
            "2  Aid to smoking cessation treatment.   \n",
            "3                                  NaN   \n",
            "4         Dry eyes， eye wash solution.   \n",
            "\n",
            "                                                  禁忌  \\\n",
            "0                              適應症:為降血脂藥(B024058100)   \n",
            "1  適應症:Adjunct in treating symptoms of mild to mo...   \n",
            "2                                                NaN   \n",
            "3  適應症: Allergic rhinitis. 副作用: Rarely， irritatio...   \n",
            "4  People with a history of allergy to the ingred...   \n",
            "\n",
            "                                                 副作用     儲存  \\\n",
            "0                                                NaN     RT   \n",
            "1                                                NaN     室溫   \n",
            "2  Nausea， sleep disturbance， constipation， flatu...    25℃   \n",
            "3                                                NaN     室溫   \n",
            "4  Occasional eye redness， swelling， burning， and...  25℃以下   \n",
            "\n",
            "                                                用法用量 肝功能異常(Y/N)  ...  \\\n",
            "0                                  10 mg once daily.        NaN  ...   \n",
            "1               Should be taken with food 1 tab tid.        NaN  ...   \n",
            "2  Days 1-3: 0.5 mg once daily.Days 4-7: 0.5 mg t...     無需調整劑量  ...   \n",
            "3                >6 ys 1 puff into each nostril bid.        NaN  ...   \n",
            "4  Usually 2-3 drops at a time， apply 5-6 times a...     無需調整劑量  ...   \n",
            "\n",
            "        孕期用藥建議 孕期附帶說明                                            哺乳期用藥建議  \\\n",
            "0          NaN    NaN                                                NaN   \n",
            "1          NaN    NaN                            Contraindicated 哺乳期使用禁忌   \n",
            "2          NaN    NaN  No (Limited) Human Data - Potential Toxicity 無...   \n",
            "3          NaN    NaN                                                NaN   \n",
            "4  Uknown 沒有資料    NaN                                       Unknown 沒有資料   \n",
            "\n",
            "  哺乳期附帶說明               給藥途徑 乾粉稀釋液 輸注點滴液 IVP用法建議 IVD用法建議 注意事項  \n",
            "0     NaN                NaN   NaN   NaN     NaN     NaN  NaN  \n",
            "1     NaN                NaN   NaN   NaN     NaN     NaN  NaN  \n",
            "2     NaN  AC;AC15;PC;PO;WM;   NaN   NaN     NaN     NaN  NaN  \n",
            "3     NaN                NaN   NaN   NaN     NaN     NaN  NaN  \n",
            "4     NaN          OD;OL;OU;   NaN   NaN     NaN     NaN  NaN  \n",
            "\n",
            "[5 rows x 23 columns]\n",
            "Original file length: 3230299 bytes\n",
            "Decoded content length: 3523692 bytes\n"
          ]
        }
      ]
    },
    {
      "cell_type": "code",
      "source": [
        "with open(path, 'rb') as file:\n",
        "    original_content = file.read()\n",
        "\n",
        "print(f\"Original file length: {len(original_content)} bytes\")\n",
        "print(f\"Decoded content length: {len(content.encode('utf-8'))} bytes\")\n"
      ],
      "metadata": {
        "id": "wplanqere3gu",
        "outputId": "3e1c5cca-4273-4965-9843-64ea4214800e",
        "colab": {
          "base_uri": "https://localhost:8080/"
        }
      },
      "execution_count": null,
      "outputs": [
        {
          "output_type": "stream",
          "name": "stdout",
          "text": [
            "Original file length: 3230299 bytes\n",
            "Decoded content length: 3523692 bytes\n"
          ]
        }
      ]
    },
    {
      "cell_type": "code",
      "source": [
        "positions = [i for i, char in enumerate(content) if char == '\\ufffd']\n",
        "print(f\"Replaced character positions: {positions}\")\n"
      ],
      "metadata": {
        "id": "DD138bEZjmKx",
        "outputId": "7d38f32f-41db-43c5-9d16-c2562cdf3776",
        "colab": {
          "base_uri": "https://localhost:8080/"
        }
      },
      "execution_count": null,
      "outputs": [
        {
          "output_type": "stream",
          "name": "stdout",
          "text": [
            "Replaced character positions: [2340027, 2340056, 2340089, 2340183, 2340233, 2340288, 2340383]\n"
          ]
        }
      ]
    },
    {
      "cell_type": "code",
      "source": [
        "context_size = 20  # number of characters to show before and after\n",
        "for pos in positions[:10]:  # limit to first 10 occurrences\n",
        "    start = max(0, pos - context_size)\n",
        "    end = min(len(content), pos + context_size + 1)\n",
        "    print(f\"Replacement at position {pos}:\")\n",
        "    print(content[start:end])\n",
        "    print(\"-\" * 40)\n"
      ],
      "metadata": {
        "id": "Iqji2-fmjoQ1",
        "outputId": "320cd73c-6bd5-4ffd-d1c8-279be729ae84",
        "colab": {
          "base_uri": "https://localhost:8080/"
        }
      },
      "execution_count": null,
      "outputs": [
        {
          "output_type": "stream",
          "name": "stdout",
          "text": [
            "Replacement at position 2340027:\n",
            "t diseases such as: �h unstable angina pe\n",
            "----------------------------------------\n",
            "Replacement at position 2340056:\n",
            "le angina pectoris， �h recent myocardial \n",
            "----------------------------------------\n",
            "Replacement at position 2340089:\n",
            "cardial infarction， �h refractory arrhyth\n",
            "----------------------------------------\n",
            "Replacement at position 2340183:\n",
            "tinuous arrhythmia， �h untreated or uncon\n",
            "----------------------------------------\n",
            "Replacement at position 2340233:\n",
            "evere hypertension， �h untreated or uncon\n",
            "----------------------------------------\n",
            "Replacement at position 2340288:\n",
            "tive heart failure， �{ Concomitant treatm\n",
            "----------------------------------------\n",
            "Replacement at position 2340383:\n",
            "ic antidepressants. �{ Xylestesin-A is no\n",
            "----------------------------------------\n"
          ]
        }
      ]
    },
    {
      "cell_type": "code",
      "source": [
        "nan_counts = csv_data.isna().sum()\n",
        "print(\"NaN counts per column:\")\n",
        "print(nan_counts)\n"
      ],
      "metadata": {
        "id": "ofpEDf7ujqMF",
        "outputId": "7876f15a-79ce-47ed-e4ac-71ca102a8ef5",
        "colab": {
          "base_uri": "https://localhost:8080/"
        }
      },
      "execution_count": null,
      "outputs": [
        {
          "output_type": "stream",
          "name": "stdout",
          "text": [
            "NaN counts per column:\n",
            "藥品代碼             0\n",
            "藥品學名            23\n",
            "藥品名稱             1\n",
            "藥品分類             0\n",
            "適應症           1408\n",
            "禁忌             323\n",
            "副作用           1434\n",
            "儲存             541\n",
            "用法用量           264\n",
            "肝功能異常(Y/N)    1170\n",
            "肝功能異常說明       2172\n",
            "腎功能異常(Y/N)    1181\n",
            "懷孕用藥危險分級       373\n",
            "孕期用藥建議        1333\n",
            "孕期附帶說明        2012\n",
            "哺乳期用藥建議        774\n",
            "哺乳期附帶說明       1948\n",
            "給藥途徑          1281\n",
            "乾粉稀釋液         2624\n",
            "輸注點滴液         2502\n",
            "IVP用法建議       2588\n",
            "IVD用法建議       2484\n",
            "注意事項          1922\n",
            "dtype: int64\n"
          ]
        }
      ]
    },
    {
      "cell_type": "code",
      "source": [
        "rows_with_replacements = csv_data.apply(lambda row: row.astype(str).str.contains('\\ufffd').any(), axis=1)\n",
        "print(f\"Number of rows with replacements: {rows_with_replacements.sum()}\")\n",
        "print(\"Indices of rows with replacements:\")\n",
        "print(rows_with_replacements[rows_with_replacements].index.tolist())\n"
      ],
      "metadata": {
        "id": "eeNCLgKQj0im",
        "outputId": "70f63525-02c8-4379-986d-1102d8da2e8e",
        "colab": {
          "base_uri": "https://localhost:8080/"
        }
      },
      "execution_count": null,
      "outputs": [
        {
          "output_type": "stream",
          "name": "stdout",
          "text": [
            "Number of rows with replacements: 1\n",
            "Indices of rows with replacements:\n",
            "[2334]\n"
          ]
        }
      ]
    },
    {
      "cell_type": "code",
      "source": [],
      "metadata": {
        "id": "CQY2MxQ6j6Qh"
      },
      "execution_count": null,
      "outputs": []
    }
  ],
  "metadata": {
    "colab": {
      "provenance": []
    },
    "kernelspec": {
      "display_name": "Python 3",
      "name": "python3"
    }
  },
  "nbformat": 4,
  "nbformat_minor": 0
}