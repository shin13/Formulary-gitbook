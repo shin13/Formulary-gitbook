{
 "cells": [
  {
   "cell_type": "code",
   "execution_count": 1,
   "metadata": {
    "ExecuteTime": {
     "end_time": "2021-07-23T02:46:39.235092Z",
     "start_time": "2021-07-23T02:46:39.207166Z"
    }
   },
   "outputs": [],
   "source": [
    "import requests\n",
    "from urllib.request import urlopen\n",
    "from bs4 import BeautifulSoup\n",
    "from pprint import pprint\n",
    "# from selenium import webdriver\n",
    "# from selenium.webdriver.common.keys import Keys\n",
    "# from selenium.webdriver.chrome.options import Options\n",
    "# from selenium.webdriver.common.action_chains import ActionChains\n",
    "# from selenium.webdriver.support.ui import WebDriverWait\n",
    "# from selenium.webdriver.support import expected_conditions\n",
    "# from selenium.webdriver.common.by import By\n",
    "# from selenium.webdriver.support import expected_conditions as EC\n",
    "# from selenium.common.exceptions import TimeoutException\n",
    "import re\n",
    "import time\n",
    "from datetime import datetime\n",
    "import pandas as pd\n",
    "import numpy as np\n",
    "from tabulate import tabulate\n",
    "from IPython.display import Markdown, display\n",
    "import os"
   ]
  },
  {
   "cell_type": "code",
   "execution_count": 2,
   "metadata": {
    "ExecuteTime": {
     "end_time": "2021-07-22T00:41:25.813063Z",
     "start_time": "2021-07-22T00:41:25.809105Z"
    }
   },
   "outputs": [],
   "source": [
    "# # 把所有藥物代碼的NIS頁面下載為html檔案\n",
    "\n",
    "# path = r'C:\\Users\\152551\\home\\formulary\\data.xlsx'  # drugbasic\n",
    "# df = pd.read_excel(path)\n",
    "# df = df[(df['29DC註記'] == ' ') | (df['29DC註記'] == 3)]\n",
    "# df = df[df['07藥品狀態(N可用D停用)'] == 'N']\n",
    "# code_list = df['01藥品代碼'].tolist()\n",
    "\n",
    "# path = r'C:\\Users\\152551\\home\\formulary\\data.xlsx'  # drugbasic_20210716\n",
    "# df = pd.read_excel(path)\n",
    "# df = df[(df['29DC註記'] == ' ') | (df['29DC註記'] == 3)]  # DC註記空白裡面有一個空格\n",
    "# df = df[df['07藥品狀態(N可用D停用)'] == 'N']\n",
    "# code_list = df['01藥品代碼'].tolist()\n",
    "\n",
    "# for code in code_list:\n",
    "#     print(code)\n",
    "#     url = 'http://139.168.122.240/NIS/CommonMedication/DrugConsultation?DrugID=' + code\n",
    "#     html = requests.get(url)\n",
    "#     html.encoding = 'UTF-8'\n",
    "#     soup = BeautifulSoup(html.text, 'html.parser')\n",
    "#     filename = code + '.html'\n",
    "#     print(filename)\n",
    "#     with open(filename, \"w\", encoding='utf-8') as f:\n",
    "#         f.write(str(soup))"
   ]
  },
  {
   "cell_type": "code",
   "execution_count": 3,
   "metadata": {
    "ExecuteTime": {
     "end_time": "2021-07-23T01:15:12.119508Z",
     "start_time": "2021-07-23T01:15:12.114522Z"
    }
   },
   "outputs": [],
   "source": [
    "# Append nones to list if is too short\n",
    "# 用none補足list的長度\n",
    "\n",
    "class TooLongError(ValueError):\n",
    "    pass\n",
    "\n",
    "def pad(seq, target_length, padding=None):\n",
    "    \"\"\"Extend the sequence seq with padding (default: None) so as to make\n",
    "    its length up to target_length. Return seq. If seq is already\n",
    "    longer than target_length, raise TooLongError.\n",
    "\n",
    "    >>> pad([], 5, 1)\n",
    "    [1, 1, 1, 1, 1]\n",
    "    >>> pad([1, 2, 3], 7)\n",
    "    [1, 2, 3, None, None, None, None]\n",
    "    >>> pad([1, 2, 3], 2)\n",
    "    ... # doctest: +IGNORE_EXCEPTION_DETAIL\n",
    "    Traceback (most recent call last):\n",
    "      ...\n",
    "    TooLongError: sequence too long (3) for target length 2\n",
    "\n",
    "    \"\"\"\n",
    "    length = len(seq)\n",
    "    if length > target_length:\n",
    "        raise TooLongError(\"sequence too long ({}) for target length {}\"\n",
    "                           .format(length, target_length))\n",
    "    seq.extend([padding] * (target_length - length))\n",
    "    return seq\n"
   ]
  },
  {
   "cell_type": "code",
   "execution_count": 4,
   "metadata": {
    "ExecuteTime": {
     "end_time": "2021-07-23T02:48:12.677385Z",
     "start_time": "2021-07-23T02:48:06.053877Z"
    }
   },
   "outputs": [],
   "source": [
    "# read drug basic data\n",
    "df = pd.read_excel('data.xlsx')\n",
    "\n",
    "# data cleaning\n",
    "cols = ['01藥品代碼', '07藥品狀態(N可用D停用)', '11藥理分類1', '12藥理分類2', '29DC註記']\n",
    "for i in cols:\n",
    "    df[i] = df[i].str.strip()\n",
    "df = df[(df['01藥品代碼'].str.len() > 0) & (df['11藥理分類1'].str.len() > 0)]\n",
    "df = df[(df['11藥理分類1'] != 'PHR') & (df['11藥理分類1'].str.len() < 5)]\n",
    "df['12藥理分類2'].fillna('ZOTH', inplace=True)\n",
    "df['12藥理分類2'] = df['12藥理分類2'].replace('ZOTH','ZO-01-00').replace('MEDD', 'ZO-02-00')\n",
    "df = df[((df['29DC註記'] == '') | (df['29DC註記'] == 3)) & (df['07藥品狀態(N可用D停用)'] == 'N')] "
   ]
  },
  {
   "cell_type": "code",
   "execution_count": 5,
   "metadata": {
    "ExecuteTime": {
     "end_time": "2021-07-23T02:49:13.031209Z",
     "start_time": "2021-07-23T02:49:12.829749Z"
    }
   },
   "outputs": [],
   "source": [
    "# 生成資料夾\n",
    "\n",
    "import os\n",
    "\n",
    "try:\n",
    "    path = 'C:\\\\Users\\\\152551\\\\formulary-gitbook\\\\toc'\n",
    "    # path = '/Users/shin/formulary/toc'\n",
    "    os.mkdir(path)\n",
    "except:\n",
    "    pass\n",
    "\n",
    "cat2_li = df['12藥理分類2'].unique().tolist()\n",
    "for cat in cat2_li:\n",
    "    if cat[-3] == '-':\n",
    "        try:\n",
    "            path = 'C:\\\\Users\\\\152551\\\\formulary-gitbook\\\\toc\\\\' + cat[:3].lower() + '00-00\\\\'\n",
    "            # path = '/Users/shin/formulary/toc/' + cat[:3].lower() + '00-00/'\n",
    "            os.mkdir(path)\n",
    "        except:\n",
    "            pass\n",
    "    else:\n",
    "        pass\n",
    "\n",
    "for cat in cat2_li:\n",
    "    if cat[-2:] == \"00\":\n",
    "        try:\n",
    "            path = 'C:\\\\Users\\\\152551\\\\formulary-gitbook\\\\toc\\\\' + cat[:3].lower() + '00-00\\\\' + cat.lower() + '\\\\'\n",
    "            # path = '/Users/shin/formulary/toc/' + cat[:3].lower() + '00-00/' + cat.lower() + '/'\n",
    "            os.mkdir(path)\n",
    "        except:\n",
    "            pass\n",
    "    elif (cat[-2:] != \"00\") & (len(cat) == 8):\n",
    "        try:\n",
    "            path = 'C:\\\\Users\\\\152551\\\\formulary-gitbook\\\\toc\\\\' + cat[:3].lower() + '00-00\\\\' + cat[:6].lower() + '00\\\\'\n",
    "            os.mkdir(path)\n",
    "        except:\n",
    "            pass\n",
    "        try:\n",
    "            path = 'C:\\\\Users\\\\152551\\\\formulary-gitbook\\\\toc\\\\' + cat[:3].lower() + '00-00\\\\' + cat[:6].lower() + '00\\\\'+ cat.lower() + '\\\\'\n",
    "            # path = '/Users/shin/formulary/toc/' + cat[:3].lower() + '00-00/' + cat[:6].lower() + '00/'+ cat.lower() + '/'\n",
    "            os.mkdir(path)\n",
    "        except:\n",
    "            pass\n",
    "    else:\n",
    "        try:\n",
    "            path = 'C:\\\\Users\\\\152551\\\\formulary-gitbook\\\\toc\\\\' + cat.lower() + '\\\\'\n",
    "            # path = '/Users/shin/formulary/toc/' + cat.lower()\n",
    "            os.mkdir(path)\n",
    "        except:\n",
    "            pass"
   ]
  },
  {
   "cell_type": "code",
   "execution_count": 6,
   "metadata": {
    "ExecuteTime": {
     "end_time": "2021-07-23T03:16:28.772914Z",
     "start_time": "2021-07-23T03:16:28.700044Z"
    }
   },
   "outputs": [],
   "source": [
    "# add path to each drug (to save markdown files)\n",
    "\n",
    "toc1 = []\n",
    "toc2 = []\n",
    "toc3 = []\n",
    "for i in df['12藥理分類2'].tolist():\n",
    "    if i[-2:] == '00':\n",
    "        toc1.append(i[:2].lower() + r'-00-00')\n",
    "        toc2.append(i.lower())\n",
    "        toc3.append(np.nan)\n",
    "    elif (i[-2:] != \"00\") & (len(i) == 8):\n",
    "        toc1.append(i[:2].lower() + r'-00-00')\n",
    "        toc2.append(i[:5].lower() + r'-00')\n",
    "        toc3.append(i.lower())\n",
    "    else:\n",
    "        toc1.append(i.lower())\n",
    "        toc2.append(np.nan)\n",
    "        toc3.append(np.nan)\n",
    "df['toc1'] = toc1\n",
    "df['toc2'] = toc2\n",
    "df['toc3'] = toc3\n",
    "\n",
    "df['drug_name'] = df['06藥品學名'].str.lower()\n",
    "li = df['drug_name'].tolist()\n",
    "new_li =[]\n",
    "for i in li:\n",
    "    i = i.replace(' + ','-')\n",
    "    i = i.replace(' & ','-')\n",
    "    i = i.replace('+','-')\n",
    "    i = i.replace('/','-')\n",
    "    i = i.replace(' ','_')\n",
    "    new_li.append(i)\n",
    "df['drug_name'] = new_li\n",
    "df['name_md'] = df['drug_name'] + '.md'\n",
    "\n",
    "# def func(row):\n",
    "#     if pd.isna(row.toc2) & pd.isna(row.toc3):\n",
    "#         string = ['toc', row['toc1'], row['name_md']]\n",
    "#         return \"\\\\\".join(string)\n",
    "#     elif pd.notna(row.toc3):\n",
    "#         string = ['toc', row['toc1'], row['toc2'], row['toc3'], row['name_md']]\n",
    "#         return \"\\\\\".join(string)\n",
    "#     else:   \n",
    "#         string = ['toc', row['toc1'], row['toc2'], row['name_md']]\n",
    "#         return \"\\\\\".join(string)\n",
    "\n",
    "# df['url'] = df.apply(func, axis=1)\n",
    "# df['line'] = '[' + df['06藥品學名'] + '](' + df['url'] +')'\n",
    "\n",
    "def func2(row):\n",
    "    if pd.isna(row.toc2) & pd.isna(row.toc3):\n",
    "        string = ['C:\\\\Users\\\\152551\\\\formulary-gitbook\\\\toc', row['toc1'], row['name_md']]\n",
    "#         string = ['/Users/shin/formulary/toc', row['toc1'], row['name_md']]\n",
    "        return \"\\\\\".join(string)\n",
    "    elif pd.notna(row.toc3):\n",
    "        string = ['C:\\\\Users\\\\152551\\\\formulary-gitbook\\\\toc', row['toc1'], row['toc2'], row['toc3'], row['name_md']]\n",
    "#         string = ['/Users/shin/formulary/toc', row['toc1'], row['toc2'], row['toc3'], row['name_md']]\n",
    "        return \"\\\\\".join(string)\n",
    "    else:   \n",
    "        string = ['C:\\\\Users\\\\152551\\\\formulary-gitbook\\\\toc', row['toc1'], row['toc2'], row['name_md']]\n",
    "#         string = ['/Users/shin/formulary/toc', row['toc1'], row['toc2'], row['name_md']]\n",
    "        return \"\\\\\".join(string)\n",
    "\n",
    "df['url2'] = df.apply(func2, axis=1)"
   ]
  },
  {
   "cell_type": "code",
   "execution_count": 7,
   "metadata": {
    "ExecuteTime": {
     "end_time": "2021-07-23T03:16:41.333367Z",
     "start_time": "2021-07-23T03:16:41.325359Z"
    }
   },
   "outputs": [],
   "source": [
    "df = df.sort_values(by=['12藥理分類2'])"
   ]
  },
  {
   "cell_type": "code",
   "execution_count": 8,
   "metadata": {
    "ExecuteTime": {
     "end_time": "2021-07-23T03:26:58.327761Z",
     "start_time": "2021-07-23T03:25:45.724184Z"
    }
   },
   "outputs": [],
   "source": [
    "# 爬蟲、資料處理、寫成markdown file、存在指定的資料夾\n",
    "\n",
    "cat2_li = df['12藥理分類2'].unique().tolist()\n",
    "\n",
    "# go through Category 2\n",
    "for cat2 in cat2_li:\n",
    "    df_cat2 = df[df['12藥理分類2'] == cat2]\n",
    "    names = df_cat2['06藥品學名'].unique().tolist()\n",
    "    # go through drug names under each Category 2\n",
    "    for name in names:\n",
    "        df_name = df_cat2[df_cat2['06藥品學名'] == name]\n",
    "        df_name = df_name.sort_values(by=['01藥品代碼'], ascending=True).reset_index(drop=True)\n",
    "        # find drug codes with a same drug name, and go through codes with a same drug name\n",
    "        code_list = df_name['01藥品代碼'].tolist()\n",
    "        df_name.set_index('01藥品代碼', inplace=True)\n",
    "        # because drugs with a same drug name would be written in a same file, the saving path is the same\n",
    "        filepath = df_name.iloc[0]['url2']\n",
    "        with open(filepath, \"w\", encoding='utf-8') as f:\n",
    "            title1 = '# ' + name + '\\n\\n'\n",
    "            f.write(title1)\n",
    "            for code in code_list:  \n",
    "                url = 'http://139.168.122.240/NIS/CommonMedication/DrugConsultation?DrugID=' + code\n",
    "                html = requests.get(url)\n",
    "                html.encoding = 'UTF-8'\n",
    "                soup = BeautifulSoup(html.text, 'html.parser')  # 以 Beautiful Soup 解析 HTML 程式碼\n",
    "                pre = soup.find('pre', class_=\"pre_DrugMemo\")\n",
    "                text = pre.text\n",
    "                # define desired replacements here\n",
    "                rep = {'適應症': '切割', '副作用': '切割', '禁忌': '切割', '【': '', '】': '', '：': '', '\\n': '', '\\r': ''}\n",
    "                # use these three lines to do the replacement\n",
    "                rep = dict((re.escape(k), v) for k, v in rep.items()) \n",
    "                    # Python 3 renamed dict.iteritems to dict.items so use rep.items() for latest versions\n",
    "                pattern = re.compile(\"|\".join(rep.keys()))\n",
    "                text = pattern.sub(lambda m: rep[re.escape(m.group(0))], text)\n",
    "                strings = text.split('切割')\n",
    "                pad(strings, 7, padding='NA')\n",
    "                titles = [None, '適應症', '副作用', '禁忌', None, None, None]\n",
    "                df1 = pd.DataFrame(list(zip(titles, strings)), columns =[0, 1])\n",
    "                \n",
    "                # 讀取NIS藥物諮詢的表格只取有2個columns的\n",
    "                # （因為第一個表格是交互作用有很多欄位、第二個表格是適應症只有1個欄位，需要另外處理）\n",
    "                tables = pd.read_html(url)\n",
    "                tbs =[]\n",
    "                for tb in tables:\n",
    "                    if len(tb.columns) == 2:\n",
    "                        df1 = df1.append(tb, ignore_index=True)\n",
    "                    else:\n",
    "                        pass\n",
    "                \n",
    "                # 修整合併之後的表格\n",
    "                df1 = df1.replace('給藥途徑','注射劑給藥建議途徑', regex=True)\n",
    "                df1 = df1.dropna(subset=[0]).reset_index(drop=True)\n",
    "                df1.fillna(value='N/A', inplace=True)\n",
    "\n",
    "                # 移除適應症、副作用、禁忌欄位文字開頭的奇怪符號\n",
    "                new =[]\n",
    "                for i in df1.iloc[:,1].tolist():\n",
    "                    if i[0:2] == ': ':\n",
    "                        i = i[2:]\n",
    "                        new.append(i)\n",
    "                    elif i[0] == ':':\n",
    "                        i = i[1:]\n",
    "                        new.append(i)\n",
    "                    elif i[0] == ' ':\n",
    "                        i = i[1:]\n",
    "                        new.append(i)\n",
    "                    else:\n",
    "                        i = i\n",
    "                        new.append(i)\n",
    "                data = [df1.iloc[:,0].tolist(), new]\n",
    "                df1 = pd.DataFrame(data).transpose()\n",
    "                df1.columns = ['藥物代碼', code]\n",
    "\n",
    "                # 將二階標題商品名與表格內容寫入文字檔\n",
    "                prodname = df_name.loc[code,'04藥品英文名稱(商品名)']\n",
    "                title2 = '## ' + prodname  + '\\n\\n'\n",
    "                f.write(title2)\n",
    "                content = df1.to_markdown(index=0)\n",
    "                f.write(content)\n",
    "                f.write('\\n\\n')\n"
   ]
  },
  {
   "cell_type": "code",
   "execution_count": null,
   "metadata": {},
   "outputs": [],
   "source": []
  }
 ],
 "metadata": {
  "kernelspec": {
   "display_name": "Python 3 (ipykernel)",
   "language": "python",
   "name": "python3"
  },
  "language_info": {
   "codemirror_mode": {
    "name": "ipython",
    "version": 3
   },
   "file_extension": ".py",
   "mimetype": "text/x-python",
   "name": "python",
   "nbconvert_exporter": "python",
   "pygments_lexer": "ipython3",
   "version": "3.9.6"
  },
  "varInspector": {
   "cols": {
    "lenName": 16,
    "lenType": 16,
    "lenVar": 40
   },
   "kernels_config": {
    "python": {
     "delete_cmd_postfix": "",
     "delete_cmd_prefix": "del ",
     "library": "var_list.py",
     "varRefreshCmd": "print(var_dic_list())"
    },
    "r": {
     "delete_cmd_postfix": ") ",
     "delete_cmd_prefix": "rm(",
     "library": "var_list.r",
     "varRefreshCmd": "cat(var_dic_list()) "
    }
   },
   "types_to_exclude": [
    "module",
    "function",
    "builtin_function_or_method",
    "instance",
    "_Feature"
   ],
   "window_display": false
  }
 },
 "nbformat": 4,
 "nbformat_minor": 4
}
