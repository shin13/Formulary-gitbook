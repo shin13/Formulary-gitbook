{
 "cells": [
  {
   "cell_type": "code",
   "execution_count": 1,
   "id": "e8f8febe",
   "metadata": {
    "ExecuteTime": {
     "end_time": "2021-10-27T08:00:15.461823Z",
     "start_time": "2021-10-27T08:00:14.668114Z"
    }
   },
   "outputs": [],
   "source": [
    "import pandas as pd\n",
    "import numpy as np"
   ]
  },
  {
   "cell_type": "code",
   "execution_count": 39,
   "id": "0c1772ba",
   "metadata": {
    "ExecuteTime": {
     "end_time": "2021-10-27T08:17:25.045223Z",
     "start_time": "2021-10-27T08:17:25.009469Z"
    }
   },
   "outputs": [
    {
     "ename": "UnicodeDecodeError",
     "evalue": "'utf-8' codec can't decode byte 0xc3 in position 0: invalid continuation byte",
     "output_type": "error",
     "traceback": [
      "\u001b[1;31m---------------------------------------------------------------------------\u001b[0m",
      "\u001b[1;31mUnicodeDecodeError\u001b[0m                        Traceback (most recent call last)",
      "\u001b[1;32mC:\\TEMP/ipykernel_11912/1921733506.py\u001b[0m in \u001b[0;36m<module>\u001b[1;34m\u001b[0m\n\u001b[0;32m      1\u001b[0m \u001b[1;31m# read drug basic data\u001b[0m\u001b[1;33m\u001b[0m\u001b[1;33m\u001b[0m\u001b[1;33m\u001b[0m\u001b[0m\n\u001b[0;32m      2\u001b[0m \u001b[1;31m# df1 = pd.read_csv('1.藥品基本檔.csv', encoding='big5hkscs')\u001b[0m\u001b[1;33m\u001b[0m\u001b[1;33m\u001b[0m\u001b[1;33m\u001b[0m\u001b[0m\n\u001b[1;32m----> 3\u001b[1;33m \u001b[0mdf2\u001b[0m \u001b[1;33m=\u001b[0m \u001b[0mpd\u001b[0m\u001b[1;33m.\u001b[0m\u001b[0mread_csv\u001b[0m\u001b[1;33m(\u001b[0m\u001b[1;34m'2.藥物諮詢.csv'\u001b[0m\u001b[1;33m,\u001b[0m \u001b[0mencoding\u001b[0m\u001b[1;33m=\u001b[0m\u001b[1;34m'utf8'\u001b[0m\u001b[1;33m)\u001b[0m\u001b[1;33m\u001b[0m\u001b[1;33m\u001b[0m\u001b[0m\n\u001b[0m\u001b[0;32m      4\u001b[0m \u001b[1;31m# exclude = pd.read_excel('exclude.xlsx')\u001b[0m\u001b[1;33m\u001b[0m\u001b[1;33m\u001b[0m\u001b[1;33m\u001b[0m\u001b[0m\n",
      "\u001b[1;32m~\\AppData\\Local\\Programs\\Python\\Python39\\lib\\site-packages\\pandas\\util\\_decorators.py\u001b[0m in \u001b[0;36mwrapper\u001b[1;34m(*args, **kwargs)\u001b[0m\n\u001b[0;32m    309\u001b[0m                     \u001b[0mstacklevel\u001b[0m\u001b[1;33m=\u001b[0m\u001b[0mstacklevel\u001b[0m\u001b[1;33m,\u001b[0m\u001b[1;33m\u001b[0m\u001b[1;33m\u001b[0m\u001b[0m\n\u001b[0;32m    310\u001b[0m                 )\n\u001b[1;32m--> 311\u001b[1;33m             \u001b[1;32mreturn\u001b[0m \u001b[0mfunc\u001b[0m\u001b[1;33m(\u001b[0m\u001b[1;33m*\u001b[0m\u001b[0margs\u001b[0m\u001b[1;33m,\u001b[0m \u001b[1;33m**\u001b[0m\u001b[0mkwargs\u001b[0m\u001b[1;33m)\u001b[0m\u001b[1;33m\u001b[0m\u001b[1;33m\u001b[0m\u001b[0m\n\u001b[0m\u001b[0;32m    312\u001b[0m \u001b[1;33m\u001b[0m\u001b[0m\n\u001b[0;32m    313\u001b[0m         \u001b[1;32mreturn\u001b[0m \u001b[0mwrapper\u001b[0m\u001b[1;33m\u001b[0m\u001b[1;33m\u001b[0m\u001b[0m\n",
      "\u001b[1;32m~\\AppData\\Local\\Programs\\Python\\Python39\\lib\\site-packages\\pandas\\io\\parsers\\readers.py\u001b[0m in \u001b[0;36mread_csv\u001b[1;34m(filepath_or_buffer, sep, delimiter, header, names, index_col, usecols, squeeze, prefix, mangle_dupe_cols, dtype, engine, converters, true_values, false_values, skipinitialspace, skiprows, skipfooter, nrows, na_values, keep_default_na, na_filter, verbose, skip_blank_lines, parse_dates, infer_datetime_format, keep_date_col, date_parser, dayfirst, cache_dates, iterator, chunksize, compression, thousands, decimal, lineterminator, quotechar, quoting, doublequote, escapechar, comment, encoding, encoding_errors, dialect, error_bad_lines, warn_bad_lines, on_bad_lines, delim_whitespace, low_memory, memory_map, float_precision, storage_options)\u001b[0m\n\u001b[0;32m    584\u001b[0m     \u001b[0mkwds\u001b[0m\u001b[1;33m.\u001b[0m\u001b[0mupdate\u001b[0m\u001b[1;33m(\u001b[0m\u001b[0mkwds_defaults\u001b[0m\u001b[1;33m)\u001b[0m\u001b[1;33m\u001b[0m\u001b[1;33m\u001b[0m\u001b[0m\n\u001b[0;32m    585\u001b[0m \u001b[1;33m\u001b[0m\u001b[0m\n\u001b[1;32m--> 586\u001b[1;33m     \u001b[1;32mreturn\u001b[0m \u001b[0m_read\u001b[0m\u001b[1;33m(\u001b[0m\u001b[0mfilepath_or_buffer\u001b[0m\u001b[1;33m,\u001b[0m \u001b[0mkwds\u001b[0m\u001b[1;33m)\u001b[0m\u001b[1;33m\u001b[0m\u001b[1;33m\u001b[0m\u001b[0m\n\u001b[0m\u001b[0;32m    587\u001b[0m \u001b[1;33m\u001b[0m\u001b[0m\n\u001b[0;32m    588\u001b[0m \u001b[1;33m\u001b[0m\u001b[0m\n",
      "\u001b[1;32m~\\AppData\\Local\\Programs\\Python\\Python39\\lib\\site-packages\\pandas\\io\\parsers\\readers.py\u001b[0m in \u001b[0;36m_read\u001b[1;34m(filepath_or_buffer, kwds)\u001b[0m\n\u001b[0;32m    480\u001b[0m \u001b[1;33m\u001b[0m\u001b[0m\n\u001b[0;32m    481\u001b[0m     \u001b[1;31m# Create the parser.\u001b[0m\u001b[1;33m\u001b[0m\u001b[1;33m\u001b[0m\u001b[1;33m\u001b[0m\u001b[0m\n\u001b[1;32m--> 482\u001b[1;33m     \u001b[0mparser\u001b[0m \u001b[1;33m=\u001b[0m \u001b[0mTextFileReader\u001b[0m\u001b[1;33m(\u001b[0m\u001b[0mfilepath_or_buffer\u001b[0m\u001b[1;33m,\u001b[0m \u001b[1;33m**\u001b[0m\u001b[0mkwds\u001b[0m\u001b[1;33m)\u001b[0m\u001b[1;33m\u001b[0m\u001b[1;33m\u001b[0m\u001b[0m\n\u001b[0m\u001b[0;32m    483\u001b[0m \u001b[1;33m\u001b[0m\u001b[0m\n\u001b[0;32m    484\u001b[0m     \u001b[1;32mif\u001b[0m \u001b[0mchunksize\u001b[0m \u001b[1;32mor\u001b[0m \u001b[0miterator\u001b[0m\u001b[1;33m:\u001b[0m\u001b[1;33m\u001b[0m\u001b[1;33m\u001b[0m\u001b[0m\n",
      "\u001b[1;32m~\\AppData\\Local\\Programs\\Python\\Python39\\lib\\site-packages\\pandas\\io\\parsers\\readers.py\u001b[0m in \u001b[0;36m__init__\u001b[1;34m(self, f, engine, **kwds)\u001b[0m\n\u001b[0;32m    809\u001b[0m             \u001b[0mself\u001b[0m\u001b[1;33m.\u001b[0m\u001b[0moptions\u001b[0m\u001b[1;33m[\u001b[0m\u001b[1;34m\"has_index_names\"\u001b[0m\u001b[1;33m]\u001b[0m \u001b[1;33m=\u001b[0m \u001b[0mkwds\u001b[0m\u001b[1;33m[\u001b[0m\u001b[1;34m\"has_index_names\"\u001b[0m\u001b[1;33m]\u001b[0m\u001b[1;33m\u001b[0m\u001b[1;33m\u001b[0m\u001b[0m\n\u001b[0;32m    810\u001b[0m \u001b[1;33m\u001b[0m\u001b[0m\n\u001b[1;32m--> 811\u001b[1;33m         \u001b[0mself\u001b[0m\u001b[1;33m.\u001b[0m\u001b[0m_engine\u001b[0m \u001b[1;33m=\u001b[0m \u001b[0mself\u001b[0m\u001b[1;33m.\u001b[0m\u001b[0m_make_engine\u001b[0m\u001b[1;33m(\u001b[0m\u001b[0mself\u001b[0m\u001b[1;33m.\u001b[0m\u001b[0mengine\u001b[0m\u001b[1;33m)\u001b[0m\u001b[1;33m\u001b[0m\u001b[1;33m\u001b[0m\u001b[0m\n\u001b[0m\u001b[0;32m    812\u001b[0m \u001b[1;33m\u001b[0m\u001b[0m\n\u001b[0;32m    813\u001b[0m     \u001b[1;32mdef\u001b[0m \u001b[0mclose\u001b[0m\u001b[1;33m(\u001b[0m\u001b[0mself\u001b[0m\u001b[1;33m)\u001b[0m\u001b[1;33m:\u001b[0m\u001b[1;33m\u001b[0m\u001b[1;33m\u001b[0m\u001b[0m\n",
      "\u001b[1;32m~\\AppData\\Local\\Programs\\Python\\Python39\\lib\\site-packages\\pandas\\io\\parsers\\readers.py\u001b[0m in \u001b[0;36m_make_engine\u001b[1;34m(self, engine)\u001b[0m\n\u001b[0;32m   1038\u001b[0m             )\n\u001b[0;32m   1039\u001b[0m         \u001b[1;31m# error: Too many arguments for \"ParserBase\"\u001b[0m\u001b[1;33m\u001b[0m\u001b[1;33m\u001b[0m\u001b[1;33m\u001b[0m\u001b[0m\n\u001b[1;32m-> 1040\u001b[1;33m         \u001b[1;32mreturn\u001b[0m \u001b[0mmapping\u001b[0m\u001b[1;33m[\u001b[0m\u001b[0mengine\u001b[0m\u001b[1;33m]\u001b[0m\u001b[1;33m(\u001b[0m\u001b[0mself\u001b[0m\u001b[1;33m.\u001b[0m\u001b[0mf\u001b[0m\u001b[1;33m,\u001b[0m \u001b[1;33m**\u001b[0m\u001b[0mself\u001b[0m\u001b[1;33m.\u001b[0m\u001b[0moptions\u001b[0m\u001b[1;33m)\u001b[0m  \u001b[1;31m# type: ignore[call-arg]\u001b[0m\u001b[1;33m\u001b[0m\u001b[1;33m\u001b[0m\u001b[0m\n\u001b[0m\u001b[0;32m   1041\u001b[0m \u001b[1;33m\u001b[0m\u001b[0m\n\u001b[0;32m   1042\u001b[0m     \u001b[1;32mdef\u001b[0m \u001b[0m_failover_to_python\u001b[0m\u001b[1;33m(\u001b[0m\u001b[0mself\u001b[0m\u001b[1;33m)\u001b[0m\u001b[1;33m:\u001b[0m\u001b[1;33m\u001b[0m\u001b[1;33m\u001b[0m\u001b[0m\n",
      "\u001b[1;32m~\\AppData\\Local\\Programs\\Python\\Python39\\lib\\site-packages\\pandas\\io\\parsers\\c_parser_wrapper.py\u001b[0m in \u001b[0;36m__init__\u001b[1;34m(self, src, **kwds)\u001b[0m\n\u001b[0;32m     67\u001b[0m         \u001b[0mkwds\u001b[0m\u001b[1;33m[\u001b[0m\u001b[1;34m\"dtype\"\u001b[0m\u001b[1;33m]\u001b[0m \u001b[1;33m=\u001b[0m \u001b[0mensure_dtype_objs\u001b[0m\u001b[1;33m(\u001b[0m\u001b[0mkwds\u001b[0m\u001b[1;33m.\u001b[0m\u001b[0mget\u001b[0m\u001b[1;33m(\u001b[0m\u001b[1;34m\"dtype\"\u001b[0m\u001b[1;33m,\u001b[0m \u001b[1;32mNone\u001b[0m\u001b[1;33m)\u001b[0m\u001b[1;33m)\u001b[0m\u001b[1;33m\u001b[0m\u001b[1;33m\u001b[0m\u001b[0m\n\u001b[0;32m     68\u001b[0m         \u001b[1;32mtry\u001b[0m\u001b[1;33m:\u001b[0m\u001b[1;33m\u001b[0m\u001b[1;33m\u001b[0m\u001b[0m\n\u001b[1;32m---> 69\u001b[1;33m             \u001b[0mself\u001b[0m\u001b[1;33m.\u001b[0m\u001b[0m_reader\u001b[0m \u001b[1;33m=\u001b[0m \u001b[0mparsers\u001b[0m\u001b[1;33m.\u001b[0m\u001b[0mTextReader\u001b[0m\u001b[1;33m(\u001b[0m\u001b[0mself\u001b[0m\u001b[1;33m.\u001b[0m\u001b[0mhandles\u001b[0m\u001b[1;33m.\u001b[0m\u001b[0mhandle\u001b[0m\u001b[1;33m,\u001b[0m \u001b[1;33m**\u001b[0m\u001b[0mkwds\u001b[0m\u001b[1;33m)\u001b[0m\u001b[1;33m\u001b[0m\u001b[1;33m\u001b[0m\u001b[0m\n\u001b[0m\u001b[0;32m     70\u001b[0m         \u001b[1;32mexcept\u001b[0m \u001b[0mException\u001b[0m\u001b[1;33m:\u001b[0m\u001b[1;33m\u001b[0m\u001b[1;33m\u001b[0m\u001b[0m\n\u001b[0;32m     71\u001b[0m             \u001b[0mself\u001b[0m\u001b[1;33m.\u001b[0m\u001b[0mhandles\u001b[0m\u001b[1;33m.\u001b[0m\u001b[0mclose\u001b[0m\u001b[1;33m(\u001b[0m\u001b[1;33m)\u001b[0m\u001b[1;33m\u001b[0m\u001b[1;33m\u001b[0m\u001b[0m\n",
      "\u001b[1;32m~\\AppData\\Local\\Programs\\Python\\Python39\\lib\\site-packages\\pandas\\_libs\\parsers.pyx\u001b[0m in \u001b[0;36mpandas._libs.parsers.TextReader.__cinit__\u001b[1;34m()\u001b[0m\n",
      "\u001b[1;32m~\\AppData\\Local\\Programs\\Python\\Python39\\lib\\site-packages\\pandas\\_libs\\parsers.pyx\u001b[0m in \u001b[0;36mpandas._libs.parsers.TextReader._get_header\u001b[1;34m()\u001b[0m\n",
      "\u001b[1;32m~\\AppData\\Local\\Programs\\Python\\Python39\\lib\\site-packages\\pandas\\_libs\\parsers.pyx\u001b[0m in \u001b[0;36mpandas._libs.parsers.TextReader._tokenize_rows\u001b[1;34m()\u001b[0m\n",
      "\u001b[1;32m~\\AppData\\Local\\Programs\\Python\\Python39\\lib\\site-packages\\pandas\\_libs\\parsers.pyx\u001b[0m in \u001b[0;36mpandas._libs.parsers.raise_parser_error\u001b[1;34m()\u001b[0m\n",
      "\u001b[1;31mUnicodeDecodeError\u001b[0m: 'utf-8' codec can't decode byte 0xc3 in position 0: invalid continuation byte"
     ]
    }
   ],
   "source": [
    "# read drug basic data\n",
    "# df1 = pd.read_csv('1.藥品基本檔.csv', encoding='big5hkscs')\n",
    "df2 = pd.read_csv('2.藥物諮詢.csv', encoding='utf8')\n",
    "# exclude = pd.read_excel('exclude.xlsx')"
   ]
  },
  {
   "cell_type": "code",
   "execution_count": 28,
   "id": "56786e5b",
   "metadata": {
    "ExecuteTime": {
     "end_time": "2021-10-27T08:13:49.081085Z",
     "start_time": "2021-10-27T08:13:49.063163Z"
    }
   },
   "outputs": [
    {
     "data": {
      "text/html": [
       "<div>\n",
       "<style scoped>\n",
       "    .dataframe tbody tr th:only-of-type {\n",
       "        vertical-align: middle;\n",
       "    }\n",
       "\n",
       "    .dataframe tbody tr th {\n",
       "        vertical-align: top;\n",
       "    }\n",
       "\n",
       "    .dataframe thead th {\n",
       "        text-align: right;\n",
       "    }\n",
       "</style>\n",
       "<table border=\"1\" class=\"dataframe\">\n",
       "  <thead>\n",
       "    <tr style=\"text-align: right;\">\n",
       "      <th></th>\n",
       "      <th>媚珇絏</th>\n",
       "      <th>媚珇厩</th>\n",
       "      <th>媚珇嘿</th>\n",
       "      <th>媚珇だ摸</th>\n",
       "      <th>続莱痝</th>\n",
       "      <th>窽б</th>\n",
       "      <th>捌ノ</th>\n",
       "      <th>纗</th>\n",
       "      <th>ノ猭ノ秖</th>\n",
       "      <th>▁钵盽(Y/N)</th>\n",
       "      <th>...</th>\n",
       "      <th>ゥ戳ノ媚某</th>\n",
       "      <th>ゥ戳盿弧</th>\n",
       "      <th>ㄅ戳ノ媚某</th>\n",
       "      <th>ㄅ戳盿弧</th>\n",
       "      <th>倒媚硚畖</th>\n",
       "      <th>爱祡睦睪</th>\n",
       "      <th>块猔翴簑睪</th>\n",
       "      <th>IVPノ猭某</th>\n",
       "      <th>IVDノ猭某</th>\n",
       "      <th>猔種ㄆ兜</th>\n",
       "    </tr>\n",
       "  </thead>\n",
       "  <tbody>\n",
       "    <tr>\n",
       "      <th>0</th>\n",
       "      <td>OEZE</td>\n",
       "      <td>Ezetimibe</td>\n",
       "      <td>Ezetrol 10mg</td>\n",
       "      <td>CAVS</td>\n",
       "      <td>NaN</td>\n",
       "      <td>続莱痝:﹀媚(B024058100)</td>\n",
       "      <td>NaN</td>\n",
       "      <td>RT</td>\n",
       "      <td>10 mg once daily.</td>\n",
       "      <td>NaN</td>\n",
       "      <td>...</td>\n",
       "      <td>NaN</td>\n",
       "      <td>NaN</td>\n",
       "      <td>NaN</td>\n",
       "      <td>NaN</td>\n",
       "      <td>NaN</td>\n",
       "      <td>NaN</td>\n",
       "      <td>NaN</td>\n",
       "      <td>NaN</td>\n",
       "      <td>NaN</td>\n",
       "      <td>NaN</td>\n",
       "    </tr>\n",
       "    <tr>\n",
       "      <th>1</th>\n",
       "      <td>OELME</td>\n",
       "      <td>Dihydroergotoxine</td>\n",
       "      <td>Elmesatt 2mg</td>\n",
       "      <td>CAVS</td>\n",
       "      <td>NaN</td>\n",
       "      <td>続莱痝:Adjunct in treating symptoms of mild to mo...</td>\n",
       "      <td>NaN</td>\n",
       "      <td>放</td>\n",
       "      <td>Should be taken with food 1 tab tid.</td>\n",
       "      <td>NaN</td>\n",
       "      <td>...</td>\n",
       "      <td>NaN</td>\n",
       "      <td>NaN</td>\n",
       "      <td>Contraindicated ㄅ戳ㄏノ窽б</td>\n",
       "      <td>NaN</td>\n",
       "      <td>NaN</td>\n",
       "      <td>NaN</td>\n",
       "      <td>NaN</td>\n",
       "      <td>NaN</td>\n",
       "      <td>NaN</td>\n",
       "      <td>NaN</td>\n",
       "    </tr>\n",
       "    <tr>\n",
       "      <th>2</th>\n",
       "      <td>OCHA1</td>\n",
       "      <td>Varenicline</td>\n",
       "      <td>CHAMPIX 1mg</td>\n",
       "      <td>ZADT</td>\n",
       "      <td>Aid to smoking cessation treatment.</td>\n",
       "      <td>NaN</td>\n",
       "      <td>Nausea sleep disturbance constipation flatu...</td>\n",
       "      <td>放</td>\n",
       "      <td>Days 1-3: 0.5 mg once daily.Days 4-7: 0.5 mg t...</td>\n",
       "      <td>礚惠秸俱警秖</td>\n",
       "      <td>...</td>\n",
       "      <td>NaN</td>\n",
       "      <td>NaN</td>\n",
       "      <td>No (Limited) Human Data - Potential Toxicity 礚...</td>\n",
       "      <td>NaN</td>\n",
       "      <td>NaN</td>\n",
       "      <td>NaN</td>\n",
       "      <td>NaN</td>\n",
       "      <td>NaN</td>\n",
       "      <td>NaN</td>\n",
       "      <td>NaN</td>\n",
       "    </tr>\n",
       "    <tr>\n",
       "      <th>3</th>\n",
       "      <td>EAZE</td>\n",
       "      <td>Azelastine</td>\n",
       "      <td>Azela nasal spray 100dose</td>\n",
       "      <td>TENT</td>\n",
       "      <td>NaN</td>\n",
       "      <td>続莱痝: Allergic rhinitis. 捌ノ: Rarely irritatio...</td>\n",
       "      <td>NaN</td>\n",
       "      <td>放</td>\n",
       "      <td>&gt;6 ys 1 puff into each nostril bid.</td>\n",
       "      <td>NaN</td>\n",
       "      <td>...</td>\n",
       "      <td>NaN</td>\n",
       "      <td>NaN</td>\n",
       "      <td>NaN</td>\n",
       "      <td>NaN</td>\n",
       "      <td>NaN</td>\n",
       "      <td>NaN</td>\n",
       "      <td>NaN</td>\n",
       "      <td>NaN</td>\n",
       "      <td>NaN</td>\n",
       "      <td>NaN</td>\n",
       "    </tr>\n",
       "    <tr>\n",
       "      <th>4</th>\n",
       "      <td>EPAT</td>\n",
       "      <td>NaCl + KCl + Boric Acid</td>\n",
       "      <td>Patear eye lotion 10mL</td>\n",
       "      <td>TOPH</td>\n",
       "      <td>NaN</td>\n",
       "      <td>続莱痝: Mild to moderate dry eyes. 窽б: Glaucoma.</td>\n",
       "      <td>NaN</td>\n",
       "      <td>放</td>\n",
       "      <td>Instill 2-3 drops 3-6 times daily.</td>\n",
       "      <td>NaN</td>\n",
       "      <td>...</td>\n",
       "      <td>NaN</td>\n",
       "      <td>NaN</td>\n",
       "      <td>Contraindicated ㄅ戳ㄏノ窽б</td>\n",
       "      <td>NaN</td>\n",
       "      <td>NaN</td>\n",
       "      <td>NaN</td>\n",
       "      <td>NaN</td>\n",
       "      <td>NaN</td>\n",
       "      <td>NaN</td>\n",
       "      <td>NaN</td>\n",
       "    </tr>\n",
       "  </tbody>\n",
       "</table>\n",
       "<p>5 rows × 23 columns</p>\n",
       "</div>"
      ],
      "text/plain": [
       "    媚珇絏                     媚珇厩                       媚珇嘿  媚珇だ摸  \\\n",
       "0   OEZE                Ezetimibe               Ezetrol 10mg  CAVS   \n",
       "1  OELME        Dihydroergotoxine               Elmesatt 2mg  CAVS   \n",
       "2  OCHA1              Varenicline                CHAMPIX 1mg  ZADT   \n",
       "3   EAZE               Azelastine  Azela nasal spray 100dose  TENT   \n",
       "4   EPAT  NaCl + KCl + Boric Acid     Patear eye lotion 10mL  TOPH   \n",
       "\n",
       "                                   続莱痝  \\\n",
       "0                                  NaN   \n",
       "1                                  NaN   \n",
       "2  Aid to smoking cessation treatment.   \n",
       "3                                  NaN   \n",
       "4                                  NaN   \n",
       "\n",
       "                                                  窽б  \\\n",
       "0                              続莱痝:﹀媚(B024058100)   \n",
       "1  続莱痝:Adjunct in treating symptoms of mild to mo...   \n",
       "2                                                NaN   \n",
       "3  続莱痝: Allergic rhinitis. 捌ノ: Rarely irritatio...   \n",
       "4      続莱痝: Mild to moderate dry eyes. 窽б: Glaucoma.   \n",
       "\n",
       "                                                 捌ノ  纗  \\\n",
       "0                                                NaN  RT   \n",
       "1                                                NaN  放   \n",
       "2  Nausea sleep disturbance constipation flatu...  放   \n",
       "3                                                NaN  放   \n",
       "4                                                NaN  放   \n",
       "\n",
       "                                                ノ猭ノ秖 ▁钵盽(Y/N)  ... ゥ戳ノ媚某  \\\n",
       "0                                  10 mg once daily.        NaN  ...    NaN   \n",
       "1               Should be taken with food 1 tab tid.        NaN  ...    NaN   \n",
       "2  Days 1-3: 0.5 mg once daily.Days 4-7: 0.5 mg t...     礚惠秸俱警秖  ...    NaN   \n",
       "3                >6 ys 1 puff into each nostril bid.        NaN  ...    NaN   \n",
       "4                 Instill 2-3 drops 3-6 times daily.        NaN  ...    NaN   \n",
       "\n",
       "  ゥ戳盿弧                                            ㄅ戳ノ媚某 ㄅ戳盿弧 倒媚硚畖  \\\n",
       "0    NaN                                                NaN     NaN  NaN   \n",
       "1    NaN                            Contraindicated ㄅ戳ㄏノ窽б     NaN  NaN   \n",
       "2    NaN  No (Limited) Human Data - Potential Toxicity 礚...     NaN  NaN   \n",
       "3    NaN                                                NaN     NaN  NaN   \n",
       "4    NaN                            Contraindicated ㄅ戳ㄏノ窽б     NaN  NaN   \n",
       "\n",
       "  爱祡睦睪 块猔翴簑睪 IVPノ猭某 IVDノ猭某 猔種ㄆ兜  \n",
       "0   NaN   NaN     NaN     NaN  NaN  \n",
       "1   NaN   NaN     NaN     NaN  NaN  \n",
       "2   NaN   NaN     NaN     NaN  NaN  \n",
       "3   NaN   NaN     NaN     NaN  NaN  \n",
       "4   NaN   NaN     NaN     NaN  NaN  \n",
       "\n",
       "[5 rows x 23 columns]"
      ]
     },
     "execution_count": 28,
     "metadata": {},
     "output_type": "execute_result"
    }
   ],
   "source": [
    "df2.head()"
   ]
  },
  {
   "cell_type": "code",
   "execution_count": null,
   "id": "6e537d9c",
   "metadata": {
    "ExecuteTime": {
     "end_time": "2021-10-27T05:56:25.119992Z",
     "start_time": "2021-10-27T05:56:25.101381Z"
    }
   },
   "outputs": [],
   "source": [
    "# drug selection\n",
    "df1 = df1[(df1['藥品狀態'] == '可用')]\n",
    "\n",
    "exclude_list = ['廠商缺貨，可查類似藥', '停用', '廠商缺貨', '停用，可查類似藥']\n",
    "df1 = df1[~df1['DC註記'].isin(exclude_list)]\n",
    "\n",
    "exclude_list = exclude.iloc[:,0].tolist()\n",
    "df1 = df1[~df1['藥品代碼'].isin(exclude_list)]  # exclude drugs in exclusion list\n",
    "\n",
    "df1 = df1.dropna(subset=['藥理分類2'])  # exclude empty & weird category 2\n",
    "exclude_list = ['MEDD', 'ZOTH', 'PHR']\n",
    "df1 = df1[~df1['藥理分類2'].isin(exclude_list)]"
   ]
  },
  {
   "cell_type": "code",
   "execution_count": null,
   "id": "c05c1e30",
   "metadata": {
    "ExecuteTime": {
     "end_time": "2021-10-27T05:57:34.074001Z",
     "start_time": "2021-10-27T05:57:34.061006Z"
    }
   },
   "outputs": [],
   "source": [
    "df1 = df1[['藥品代碼', '商品英文名稱', '商品學名', '藥理分類1', '藥理分類2', 'DC註記']]\n",
    "df2 = df2[['藥品代碼', '適應症', '用法用量', '肝功能異常(Y/N)', '腎功能異常(Y/N)', '禁忌', '副作用', '孕期用藥建議', '哺乳期用藥建議']]\n",
    "df = df1.merge(df2, on='藥品代碼', how='left')"
   ]
  },
  {
   "cell_type": "code",
   "execution_count": null,
   "id": "7856addb",
   "metadata": {
    "ExecuteTime": {
     "end_time": "2021-10-27T05:57:41.635789Z",
     "start_time": "2021-10-27T05:57:41.629834Z"
    }
   },
   "outputs": [],
   "source": [
    "df = df.rename(columns={'肝功能異常(Y/N)': '肝功能異常', '腎功能異常(Y/N)': '腎功能異常'})"
   ]
  },
  {
   "cell_type": "code",
   "execution_count": null,
   "id": "1085732f",
   "metadata": {
    "ExecuteTime": {
     "end_time": "2021-10-26T05:54:32.074316Z",
     "start_time": "2021-10-26T05:54:31.953507Z"
    },
    "code_folding": []
   },
   "outputs": [],
   "source": [
    "# make file directories\n",
    "import os\n",
    "\n",
    "try:\n",
    "    path = 'C:\\\\Users\\\\152551\\\\formulary-gitbook\\\\toc'\n",
    "    # path = '/Users/shin/formulary/toc'\n",
    "    os.mkdir(path)\n",
    "except:\n",
    "    pass\n",
    "cat2_li = df['藥理分類2'].unique().tolist()\n",
    "for cat in cat2_li:\n",
    "    if cat[-3] == '-':\n",
    "        try:\n",
    "            path = 'C:\\\\Users\\\\152551\\\\formulary-gitbook\\\\toc\\\\' + \\\n",
    "            cat[:3].lower() + '00-00\\\\'\n",
    "            # path = '/Users/shin/formulary/toc/' + cat[:3].lower() + '00-00/'\n",
    "            os.mkdir(path)\n",
    "        except:\n",
    "            pass\n",
    "    else:\n",
    "        pass\n",
    "\n",
    "for cat in cat2_li:\n",
    "    if cat[-2:] == \"00\":\n",
    "        try:\n",
    "            path = 'C:\\\\Users\\\\152551\\\\formulary-gitbook\\\\toc\\\\' + \\\n",
    "            cat[:3].lower() + '00-00\\\\' + cat.lower() + '\\\\'\n",
    "            # path = '/Users/shin/formulary/toc/' + cat[:3].lower() + '00-00/' + cat.lower() + '/'\n",
    "            os.mkdir(path)\n",
    "        except:\n",
    "            pass\n",
    "    elif (cat[-2:] != \"00\") & (len(cat) == 8):\n",
    "        try:\n",
    "            path = 'C:\\\\Users\\\\152551\\\\formulary-gitbook\\\\toc\\\\' + \\\n",
    "            cat[:3].lower() + '00-00\\\\' + cat[:6].lower() + '00\\\\'\n",
    "            os.mkdir(path)\n",
    "        except:\n",
    "            pass\n",
    "        try:\n",
    "            path = 'C:\\\\Users\\\\152551\\\\formulary-gitbook\\\\toc\\\\' + \\\n",
    "            cat[:3].lower() + '00-00\\\\' + cat[:6].lower() + '00\\\\' + cat.lower() + '\\\\'\n",
    "            # path = '/Users/shin/formulary/toc/' + cat[:3].lower() + '00-00/' + cat[:6].lower() + '00/'+ cat.lower() + '/'\n",
    "            os.mkdir(path)\n",
    "        except:\n",
    "            pass\n",
    "    else:\n",
    "        try:\n",
    "            path = 'C:\\\\Users\\\\152551\\\\formulary-gitbook\\\\toc\\\\' + cat.lower() + '\\\\'\n",
    "            # path = '/Users/shin/formulary/toc/' + cat.lower()\n",
    "            os.mkdir(path)\n",
    "        except:\n",
    "            pass"
   ]
  },
  {
   "cell_type": "code",
   "execution_count": null,
   "id": "d546a607",
   "metadata": {
    "ExecuteTime": {
     "end_time": "2021-10-26T05:54:32.628941Z",
     "start_time": "2021-10-26T05:54:32.614978Z"
    }
   },
   "outputs": [],
   "source": [
    "df.head()"
   ]
  },
  {
   "cell_type": "code",
   "execution_count": null,
   "id": "d34fdcf5",
   "metadata": {
    "ExecuteTime": {
     "end_time": "2021-10-26T05:54:33.710181Z",
     "start_time": "2021-10-26T05:54:33.697248Z"
    }
   },
   "outputs": [],
   "source": [
    "# add path to each drug (to save markdown files)\n",
    "toc1 = []\n",
    "toc2 = []\n",
    "toc3 = []\n",
    "for i in df['藥理分類2'].tolist():\n",
    "    if i[-2:] == '00':\n",
    "        toc1.append(i[:2].lower() + r'-00-00')\n",
    "        toc2.append(i.lower())\n",
    "        toc3.append(np.nan)\n",
    "    elif (i[-2:] != \"00\") & (len(i) == 8):\n",
    "        toc1.append(i[:2].lower() + r'-00-00')\n",
    "        toc2.append(i[:5].lower() + r'-00')\n",
    "        toc3.append(i.lower())\n",
    "    else:\n",
    "        toc1.append(i.lower())\n",
    "        toc2.append(np.nan)\n",
    "        toc3.append(np.nan)\n",
    "df['toc1'] = toc1\n",
    "df['toc2'] = toc2\n",
    "df['toc3'] = toc3\n",
    "\n",
    "df['drug_name'] = df['商品學名'].str.lower()\n",
    "li = df['drug_name'].tolist()\n",
    "new_li = []\n",
    "for i in li:\n",
    "    i = i.replace(' + ', '_and_')\n",
    "    i = i.replace(' & ', '_and_')\n",
    "    i = i.replace('+', '_and_')\n",
    "    i = i.replace('/', '-')\n",
    "    i = i.replace(' ', '_')\n",
    "    new_li.append(i)\n",
    "df['drug_name'] = new_li\n",
    "df['name_md'] = df['drug_name'] + '.md'"
   ]
  },
  {
   "cell_type": "code",
   "execution_count": null,
   "id": "91f001b7",
   "metadata": {
    "ExecuteTime": {
     "end_time": "2021-10-26T05:54:34.509570Z",
     "start_time": "2021-10-26T05:54:34.492587Z"
    }
   },
   "outputs": [],
   "source": [
    "df.head()"
   ]
  },
  {
   "cell_type": "code",
   "execution_count": null,
   "id": "087d0880",
   "metadata": {
    "ExecuteTime": {
     "end_time": "2021-10-26T05:54:37.511615Z",
     "start_time": "2021-10-26T05:54:37.465632Z"
    }
   },
   "outputs": [],
   "source": [
    "def func2(row):\n",
    "    if pd.isna(row.toc2) & pd.isna(row.toc3):\n",
    "        string = ['C:\\\\Users\\\\152551\\\\formulary-gitbook\\\\toc',\n",
    "                  row['toc1'], row['name_md']]\n",
    "#         string = ['/Users/shin/formulary/toc', row['toc1'], row['name_md']]\n",
    "        return \"\\\\\".join(string)\n",
    "    elif pd.notna(row.toc3):\n",
    "        string = ['C:\\\\Users\\\\152551\\\\formulary-gitbook\\\\toc',\n",
    "                  row['toc1'], row['toc2'], row['toc3'], row['name_md']]\n",
    "#         string = ['/Users/shin/formulary/toc', row['toc1'], row['toc2'], row['toc3'], row['name_md']]\n",
    "        return \"\\\\\".join(string)\n",
    "    else:\n",
    "        string = ['C:\\\\Users\\\\152551\\\\formulary-gitbook\\\\toc',\n",
    "                  row['toc1'], row['toc2'], row['name_md']]\n",
    "#         string = ['/Users/shin/formulary/toc', row['toc1'], row['toc2'], row['name_md']]\n",
    "        return \"\\\\\".join(string)\n",
    "\n",
    "\n",
    "df['url2'] = df.apply(func2, axis=1)\n",
    "df = df.sort_values(by=['藥理分類2'])"
   ]
  },
  {
   "cell_type": "code",
   "execution_count": null,
   "id": "9359a45f",
   "metadata": {
    "ExecuteTime": {
     "end_time": "2021-10-26T05:54:38.142992Z",
     "start_time": "2021-10-26T05:54:38.127179Z"
    }
   },
   "outputs": [],
   "source": [
    "df['url2'].tolist()"
   ]
  },
  {
   "cell_type": "code",
   "execution_count": null,
   "id": "d9f3351b",
   "metadata": {
    "ExecuteTime": {
     "end_time": "2021-10-26T05:54:44.826979Z",
     "start_time": "2021-10-26T05:54:40.049480Z"
    }
   },
   "outputs": [],
   "source": [
    "# write markdown files and save\n",
    "cat2_li = df['藥理分類2'].unique().tolist()\n",
    "\n",
    "# go through Category 2\n",
    "for cat2 in cat2_li:\n",
    "    df_cat2 = df[df['藥理分類2'] == cat2]\n",
    "    \n",
    "    # go through drug names under each Category 2\n",
    "    names = df_cat2['商品學名'].unique().tolist()\n",
    "    for name in names:\n",
    "        df_name = df_cat2[df_cat2['商品學名'] == name]\n",
    "        df_name = df_name.sort_values(by=['藥品代碼'], ascending=True).reset_index(drop=True)\n",
    "        # find drug codes with a same drug name, and go through codes with a same drug name\n",
    "        code_list = df_name['藥品代碼'].tolist()\n",
    "        df_name.set_index('藥品代碼', inplace=True)\n",
    "        # because drugs with a same drug name would be written in a same file, the saving path is the same\n",
    "        filepath = df_name.iloc[0]['url2']\n",
    "        with open(filepath, \"w\", encoding='utf-8') as f:\n",
    "            title1 = '# ' + name + '\\n\\n'\n",
    "            f.write(title1)\n",
    "            for code in code_list:\n",
    "                prodname = df_name.loc[code, '商品英文名稱']\n",
    "                title2 = '## ' + prodname + '\\n\\n'\n",
    "                f.write(title2)\n",
    "\n",
    "                note = df_name.loc[code, '臨採註記']\n",
    "                try:\n",
    "                    title3 = '#### ' + note + '\\n\\n'\n",
    "                except:\n",
    "                    title3 = ''\n",
    "                f.write(title3)\n",
    "\n",
    "                df_tb = df_name.loc[code,'適應症':'哺乳期用藥建議'].reset_index()\n",
    "                df_tb.columns = ['藥品代碼', code]\n",
    "                content = df_tb.to_markdown(index=0)\n",
    "                f.write(content)\n",
    "\n",
    "                f.write('\\n\\n')"
   ]
  },
  {
   "cell_type": "code",
   "execution_count": null,
   "id": "1d7f75de",
   "metadata": {},
   "outputs": [],
   "source": []
  }
 ],
 "metadata": {
  "kernelspec": {
   "display_name": "Python 3 (ipykernel)",
   "language": "python",
   "name": "python3"
  },
  "language_info": {
   "codemirror_mode": {
    "name": "ipython",
    "version": 3
   },
   "file_extension": ".py",
   "mimetype": "text/x-python",
   "name": "python",
   "nbconvert_exporter": "python",
   "pygments_lexer": "ipython3",
   "version": "3.9.6"
  },
  "varInspector": {
   "cols": {
    "lenName": 16,
    "lenType": 16,
    "lenVar": 40
   },
   "kernels_config": {
    "python": {
     "delete_cmd_postfix": "",
     "delete_cmd_prefix": "del ",
     "library": "var_list.py",
     "varRefreshCmd": "print(var_dic_list())"
    },
    "r": {
     "delete_cmd_postfix": ") ",
     "delete_cmd_prefix": "rm(",
     "library": "var_list.r",
     "varRefreshCmd": "cat(var_dic_list()) "
    }
   },
   "types_to_exclude": [
    "module",
    "function",
    "builtin_function_or_method",
    "instance",
    "_Feature"
   ],
   "window_display": false
  }
 },
 "nbformat": 4,
 "nbformat_minor": 5
}
