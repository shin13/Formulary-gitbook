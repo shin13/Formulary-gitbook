{
 "cells": [
  {
   "cell_type": "code",
   "execution_count": null,
   "id": "9a600bcd",
   "metadata": {
    "ExecuteTime": {
     "end_time": "2021-10-26T07:39:39.852006Z",
     "start_time": "2021-10-26T07:39:39.842033Z"
    }
   },
   "outputs": [],
   "source": [
    "'''\n",
    "Update reference of category 2 names\n",
    "'''"
   ]
  },
  {
   "cell_type": "code",
   "execution_count": null,
   "id": "4457b9be",
   "metadata": {
    "ExecuteTime": {
     "end_time": "2021-10-26T07:39:41.442484Z",
     "start_time": "2021-10-26T07:39:40.498158Z"
    }
   },
   "outputs": [],
   "source": [
    "import pandas as pd\n",
    "import numpy as np"
   ]
  },
  {
   "cell_type": "code",
   "execution_count": null,
   "id": "8f74cc9b",
   "metadata": {
    "ExecuteTime": {
     "end_time": "2021-10-26T07:39:42.776387Z",
     "start_time": "2021-10-26T07:39:41.897905Z"
    }
   },
   "outputs": [],
   "source": [
    "# read drug basic data\n",
    "df1 = pd.read_excel('1.藥品基本檔.xlsx')\n",
    "exclude = pd.read_excel('exclude.xlsx')\n",
    "ref = pd.read_excel('cat_ref2.xlsx')"
   ]
  },
  {
   "cell_type": "code",
   "execution_count": null,
   "id": "4132a24d",
   "metadata": {
    "ExecuteTime": {
     "end_time": "2021-10-26T07:39:42.832721Z",
     "start_time": "2021-10-26T07:39:42.811769Z"
    }
   },
   "outputs": [],
   "source": [
    "# drug selection\n",
    "df1 = df1[(df1['藥品狀態'] == '可用')]\n",
    "\n",
    "exclude_list = ['廠商缺貨，可查類似藥', '停用', '廠商缺貨', '停用，可查類似藥']\n",
    "df1 = df1[~df1['DC註記'].isin(exclude_list)]\n",
    "\n",
    "exclude_list = exclude.iloc[:,0].tolist()\n",
    "df1 = df1[~df1['藥品代碼'].isin(exclude_list)]  # exclude drugs in exclusion list\n",
    "\n",
    "df1 = df1.dropna(subset=['藥理分類2'])  # exclude empty & weird category 2\n",
    "exclude_list2 = ['MEDD', 'ZOTH', 'PHR']\n",
    "df1 = df1[~df1['藥理分類2'].isin(exclude_list2)]"
   ]
  },
  {
   "cell_type": "code",
   "execution_count": null,
   "id": "8e733063",
   "metadata": {
    "ExecuteTime": {
     "end_time": "2021-10-26T07:39:43.066114Z",
     "start_time": "2021-10-26T07:39:43.058109Z"
    }
   },
   "outputs": [],
   "source": [
    "# make category 2 list\n",
    "cat2_list = df1['藥理分類2'].sort_values().unique().tolist()\n",
    "li = []\n",
    "for i in cat2_list:\n",
    "    i = i.lower()\n",
    "    if i[-2:] == '00':\n",
    "        li.append(i[:2] + r'-00-00')\n",
    "        li.append(i)\n",
    "\n",
    "    elif (i[-2:] != \"00\"):\n",
    "        li.append(i[:2].lower() + r'-00-00')\n",
    "        li.append(i[:5].lower() + r'-00')\n",
    "        li.append(i)\n",
    "    else:\n",
    "        li.append(i)\n",
    "        \n",
    "# remove duplicates in the list\n",
    "l = []\n",
    "for i in li:\n",
    "    if i not in l:\n",
    "        l.append(i)"
   ]
  },
  {
   "cell_type": "code",
   "execution_count": null,
   "id": "f9bed52a",
   "metadata": {
    "ExecuteTime": {
     "end_time": "2021-10-26T07:39:43.963656Z",
     "start_time": "2021-10-26T07:39:43.953679Z"
    }
   },
   "outputs": [],
   "source": [
    "df_cat2 = pd.DataFrame(l, columns =['code'])\n",
    "df_cat2"
   ]
  },
  {
   "cell_type": "code",
   "execution_count": null,
   "id": "3fd4d3e5",
   "metadata": {
    "ExecuteTime": {
     "end_time": "2021-10-26T07:39:44.795290Z",
     "start_time": "2021-10-26T07:39:44.786314Z"
    }
   },
   "outputs": [],
   "source": [
    "ref"
   ]
  },
  {
   "cell_type": "code",
   "execution_count": null,
   "id": "33cc0547",
   "metadata": {
    "ExecuteTime": {
     "end_time": "2021-10-26T07:39:45.632611Z",
     "start_time": "2021-10-26T07:39:45.616761Z"
    }
   },
   "outputs": [],
   "source": [
    "out = df_cat2.merge(ref, on='code', how='left')\n",
    "out"
   ]
  },
  {
   "cell_type": "code",
   "execution_count": null,
   "id": "6221bf69",
   "metadata": {
    "ExecuteTime": {
     "end_time": "2021-10-26T07:39:47.308912Z",
     "start_time": "2021-10-26T07:39:47.297943Z"
    }
   },
   "outputs": [],
   "source": [
    "out.loc[(out['code'].str.len() == 8)]"
   ]
  },
  {
   "cell_type": "code",
   "execution_count": null,
   "id": "02229cb9",
   "metadata": {
    "ExecuteTime": {
     "end_time": "2021-10-26T07:39:52.608961Z",
     "start_time": "2021-10-26T07:39:52.577018Z"
    }
   },
   "outputs": [],
   "source": [
    "out = out.loc[(out['code'].str.len() == 8)]\n",
    "out.to_excel('cat_ref2.xlsx', encoding='utf-8', index=0) "
   ]
  },
  {
   "cell_type": "code",
   "execution_count": null,
   "id": "cb9bf357",
   "metadata": {},
   "outputs": [],
   "source": []
  }
 ],
 "metadata": {
  "kernelspec": {
   "display_name": "Python 3 (ipykernel)",
   "language": "python",
   "name": "python3"
  },
  "language_info": {
   "codemirror_mode": {
    "name": "ipython",
    "version": 3
   },
   "file_extension": ".py",
   "mimetype": "text/x-python",
   "name": "python",
   "nbconvert_exporter": "python",
   "pygments_lexer": "ipython3",
   "version": "3.9.6"
  },
  "varInspector": {
   "cols": {
    "lenName": 16,
    "lenType": 16,
    "lenVar": 40
   },
   "kernels_config": {
    "python": {
     "delete_cmd_postfix": "",
     "delete_cmd_prefix": "del ",
     "library": "var_list.py",
     "varRefreshCmd": "print(var_dic_list())"
    },
    "r": {
     "delete_cmd_postfix": ") ",
     "delete_cmd_prefix": "rm(",
     "library": "var_list.r",
     "varRefreshCmd": "cat(var_dic_list()) "
    }
   },
   "types_to_exclude": [
    "module",
    "function",
    "builtin_function_or_method",
    "instance",
    "_Feature"
   ],
   "window_display": false
  }
 },
 "nbformat": 4,
 "nbformat_minor": 5
}
