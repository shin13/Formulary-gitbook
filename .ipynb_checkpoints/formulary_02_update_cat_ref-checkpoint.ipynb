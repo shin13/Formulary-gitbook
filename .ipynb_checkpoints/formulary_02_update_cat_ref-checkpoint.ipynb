{
 "cells": [
  {
   "cell_type": "code",
   "execution_count": 2,
   "id": "9a600bcd",
   "metadata": {
    "ExecuteTime": {
     "end_time": "2021-10-26T07:39:39.852006Z",
     "start_time": "2021-10-26T07:39:39.842033Z"
    }
   },
   "outputs": [
    {
     "data": {
      "text/plain": [
       "'\\nUpdate reference of category 2 names\\n'"
      ]
     },
     "execution_count": 2,
     "metadata": {},
     "output_type": "execute_result"
    }
   ],
   "source": [
    "'''\n",
    "Update reference of category 2 names\n",
    "'''"
   ]
  },
  {
   "cell_type": "code",
   "execution_count": 3,
   "id": "4457b9be",
   "metadata": {
    "ExecuteTime": {
     "end_time": "2021-10-26T07:39:41.442484Z",
     "start_time": "2021-10-26T07:39:40.498158Z"
    }
   },
   "outputs": [],
   "source": [
    "import pandas as pd\n",
    "import numpy as np"
   ]
  },
  {
   "cell_type": "code",
   "execution_count": 4,
   "id": "8f74cc9b",
   "metadata": {
    "ExecuteTime": {
     "end_time": "2021-10-26T07:39:42.776387Z",
     "start_time": "2021-10-26T07:39:41.897905Z"
    }
   },
   "outputs": [],
   "source": [
    "# read drug basic data\n",
    "df1 = pd.read_csv('1.藥品基本檔.csv')\n",
    "exclude = pd.read_excel('exclude.xlsx')\n",
    "ref = pd.read_excel('cat_ref.xlsx')"
   ]
  },
  {
   "cell_type": "code",
   "execution_count": 5,
   "id": "4132a24d",
   "metadata": {
    "ExecuteTime": {
     "end_time": "2021-10-26T07:39:42.832721Z",
     "start_time": "2021-10-26T07:39:42.811769Z"
    }
   },
   "outputs": [],
   "source": [
    "# drug selection\n",
    "exclude_list = exclude.iloc[:,0].tolist()\n",
    "df1 = df1[~df1['藥品代碼'].isin(exclude_list)]  # exclude drugs in exclusion list\n",
    "df1 = df1[(df1['藥品狀態'] == '可用')]  # pick status available\n",
    "df1 = df1.dropna(subset=['藥理分類2'])  # exclude empty & weird category 2\n",
    "exclude_list = ['MEDD', 'ZOTH', 'PHR']\n",
    "df1 = df1[~df1['藥理分類2'].isin(exclude_list)]"
   ]
  },
  {
   "cell_type": "code",
   "execution_count": 6,
   "id": "8e733063",
   "metadata": {
    "ExecuteTime": {
     "end_time": "2021-10-26T07:39:43.066114Z",
     "start_time": "2021-10-26T07:39:43.058109Z"
    }
   },
   "outputs": [],
   "source": [
    "# make category 2 list\n",
    "cat2_list = df1['藥理分類2'].sort_values().unique().tolist()\n",
    "li = []\n",
    "for i in cat2_list:\n",
    "    i = i.lower()\n",
    "    if i[-2:] == '00':\n",
    "        li.append(i[:2] + r'-00-00')\n",
    "        li.append(i)\n",
    "\n",
    "    elif (i[-2:] != \"00\"):\n",
    "        li.append(i[:2].lower() + r'-00-00')\n",
    "        li.append(i[:5].lower() + r'-00')\n",
    "        li.append(i)\n",
    "    else:\n",
    "        li.append(i)\n",
    "        \n",
    "# remove duplicates in the list\n",
    "l = []\n",
    "for i in li:\n",
    "    if i not in l:\n",
    "        l.append(i)"
   ]
  },
  {
   "cell_type": "code",
   "execution_count": 7,
   "id": "f9bed52a",
   "metadata": {
    "ExecuteTime": {
     "end_time": "2021-10-26T07:39:43.963656Z",
     "start_time": "2021-10-26T07:39:43.953679Z"
    }
   },
   "outputs": [
    {
     "data": {
      "text/html": [
       "<div>\n",
       "<style scoped>\n",
       "    .dataframe tbody tr th:only-of-type {\n",
       "        vertical-align: middle;\n",
       "    }\n",
       "\n",
       "    .dataframe tbody tr th {\n",
       "        vertical-align: top;\n",
       "    }\n",
       "\n",
       "    .dataframe thead th {\n",
       "        text-align: right;\n",
       "    }\n",
       "</style>\n",
       "<table border=\"1\" class=\"dataframe\">\n",
       "  <thead>\n",
       "    <tr style=\"text-align: right;\">\n",
       "      <th></th>\n",
       "      <th>code</th>\n",
       "    </tr>\n",
       "  </thead>\n",
       "  <tbody>\n",
       "    <tr>\n",
       "      <th>0</th>\n",
       "      <td>ad-00-00</td>\n",
       "    </tr>\n",
       "    <tr>\n",
       "      <th>1</th>\n",
       "      <td>ad-01-00</td>\n",
       "    </tr>\n",
       "    <tr>\n",
       "      <th>2</th>\n",
       "      <td>ad-02-00</td>\n",
       "    </tr>\n",
       "    <tr>\n",
       "      <th>3</th>\n",
       "      <td>ai-00-00</td>\n",
       "    </tr>\n",
       "    <tr>\n",
       "      <th>4</th>\n",
       "      <td>ai-01-00</td>\n",
       "    </tr>\n",
       "    <tr>\n",
       "      <th>...</th>\n",
       "      <td>...</td>\n",
       "    </tr>\n",
       "    <tr>\n",
       "      <th>246</th>\n",
       "      <td>vs-00-00</td>\n",
       "    </tr>\n",
       "    <tr>\n",
       "      <th>247</th>\n",
       "      <td>vs-01-00</td>\n",
       "    </tr>\n",
       "    <tr>\n",
       "      <th>248</th>\n",
       "      <td>vs-01-01</td>\n",
       "    </tr>\n",
       "    <tr>\n",
       "      <th>249</th>\n",
       "      <td>vs-01-03</td>\n",
       "    </tr>\n",
       "    <tr>\n",
       "      <th>250</th>\n",
       "      <td>vs-01-05</td>\n",
       "    </tr>\n",
       "  </tbody>\n",
       "</table>\n",
       "<p>251 rows × 1 columns</p>\n",
       "</div>"
      ],
      "text/plain": [
       "         code\n",
       "0    ad-00-00\n",
       "1    ad-01-00\n",
       "2    ad-02-00\n",
       "3    ai-00-00\n",
       "4    ai-01-00\n",
       "..        ...\n",
       "246  vs-00-00\n",
       "247  vs-01-00\n",
       "248  vs-01-01\n",
       "249  vs-01-03\n",
       "250  vs-01-05\n",
       "\n",
       "[251 rows x 1 columns]"
      ]
     },
     "execution_count": 7,
     "metadata": {},
     "output_type": "execute_result"
    }
   ],
   "source": [
    "df_cat2 = pd.DataFrame(l, columns =['code'])\n",
    "df_cat2"
   ]
  },
  {
   "cell_type": "code",
   "execution_count": 8,
   "id": "3fd4d3e5",
   "metadata": {
    "ExecuteTime": {
     "end_time": "2021-10-26T07:39:44.795290Z",
     "start_time": "2021-10-26T07:39:44.786314Z"
    }
   },
   "outputs": [
    {
     "data": {
      "text/html": [
       "<div>\n",
       "<style scoped>\n",
       "    .dataframe tbody tr th:only-of-type {\n",
       "        vertical-align: middle;\n",
       "    }\n",
       "\n",
       "    .dataframe tbody tr th {\n",
       "        vertical-align: top;\n",
       "    }\n",
       "\n",
       "    .dataframe thead th {\n",
       "        text-align: right;\n",
       "    }\n",
       "</style>\n",
       "<table border=\"1\" class=\"dataframe\">\n",
       "  <thead>\n",
       "    <tr style=\"text-align: right;\">\n",
       "      <th></th>\n",
       "      <th>code</th>\n",
       "      <th>name</th>\n",
       "    </tr>\n",
       "  </thead>\n",
       "  <tbody>\n",
       "    <tr>\n",
       "      <th>0</th>\n",
       "      <td>ad-01-00</td>\n",
       "      <td>General Antidotes</td>\n",
       "    </tr>\n",
       "    <tr>\n",
       "      <th>1</th>\n",
       "      <td>ad-02-00</td>\n",
       "      <td>Specific Antidotes</td>\n",
       "    </tr>\n",
       "    <tr>\n",
       "      <th>2</th>\n",
       "      <td>ai-01-01</td>\n",
       "      <td>Penicillins</td>\n",
       "    </tr>\n",
       "    <tr>\n",
       "      <th>3</th>\n",
       "      <td>ai-01-02</td>\n",
       "      <td>Cephalosporins</td>\n",
       "    </tr>\n",
       "    <tr>\n",
       "      <th>4</th>\n",
       "      <td>ai-01-03</td>\n",
       "      <td>Aminoglycosides</td>\n",
       "    </tr>\n",
       "    <tr>\n",
       "      <th>...</th>\n",
       "      <td>...</td>\n",
       "      <td>...</td>\n",
       "    </tr>\n",
       "    <tr>\n",
       "      <th>203</th>\n",
       "      <td>vs-01-02</td>\n",
       "      <td>X Ray Contrast Media, Non-Iodinated</td>\n",
       "    </tr>\n",
       "    <tr>\n",
       "      <th>204</th>\n",
       "      <td>vs-01-04</td>\n",
       "      <td>Ultrasound Contrast Media</td>\n",
       "    </tr>\n",
       "    <tr>\n",
       "      <th>205</th>\n",
       "      <td>zz-00-00</td>\n",
       "      <td>Other Categories</td>\n",
       "    </tr>\n",
       "    <tr>\n",
       "      <th>206</th>\n",
       "      <td>zo-00-00</td>\n",
       "      <td>Other Categories</td>\n",
       "    </tr>\n",
       "    <tr>\n",
       "      <th>207</th>\n",
       "      <td>vs-00-00</td>\n",
       "      <td>Contrast Medium</td>\n",
       "    </tr>\n",
       "  </tbody>\n",
       "</table>\n",
       "<p>208 rows × 2 columns</p>\n",
       "</div>"
      ],
      "text/plain": [
       "         code                                 name\n",
       "0    ad-01-00                    General Antidotes\n",
       "1    ad-02-00                   Specific Antidotes\n",
       "2    ai-01-01                          Penicillins\n",
       "3    ai-01-02                       Cephalosporins\n",
       "4    ai-01-03                      Aminoglycosides\n",
       "..        ...                                  ...\n",
       "203  vs-01-02  X Ray Contrast Media, Non-Iodinated\n",
       "204  vs-01-04            Ultrasound Contrast Media\n",
       "205  zz-00-00                     Other Categories\n",
       "206  zo-00-00                     Other Categories\n",
       "207  vs-00-00                      Contrast Medium\n",
       "\n",
       "[208 rows x 2 columns]"
      ]
     },
     "execution_count": 8,
     "metadata": {},
     "output_type": "execute_result"
    }
   ],
   "source": [
    "ref"
   ]
  },
  {
   "cell_type": "code",
   "execution_count": 9,
   "id": "33cc0547",
   "metadata": {
    "ExecuteTime": {
     "end_time": "2021-10-26T07:39:45.632611Z",
     "start_time": "2021-10-26T07:39:45.616761Z"
    }
   },
   "outputs": [
    {
     "data": {
      "text/html": [
       "<div>\n",
       "<style scoped>\n",
       "    .dataframe tbody tr th:only-of-type {\n",
       "        vertical-align: middle;\n",
       "    }\n",
       "\n",
       "    .dataframe tbody tr th {\n",
       "        vertical-align: top;\n",
       "    }\n",
       "\n",
       "    .dataframe thead th {\n",
       "        text-align: right;\n",
       "    }\n",
       "</style>\n",
       "<table border=\"1\" class=\"dataframe\">\n",
       "  <thead>\n",
       "    <tr style=\"text-align: right;\">\n",
       "      <th></th>\n",
       "      <th>code</th>\n",
       "      <th>name</th>\n",
       "    </tr>\n",
       "  </thead>\n",
       "  <tbody>\n",
       "    <tr>\n",
       "      <th>0</th>\n",
       "      <td>ad-00-00</td>\n",
       "      <td>Antidotes</td>\n",
       "    </tr>\n",
       "    <tr>\n",
       "      <th>1</th>\n",
       "      <td>ad-01-00</td>\n",
       "      <td>General Antidotes</td>\n",
       "    </tr>\n",
       "    <tr>\n",
       "      <th>2</th>\n",
       "      <td>ad-02-00</td>\n",
       "      <td>Specific Antidotes</td>\n",
       "    </tr>\n",
       "    <tr>\n",
       "      <th>3</th>\n",
       "      <td>ai-00-00</td>\n",
       "      <td>Anti-Infective Agents</td>\n",
       "    </tr>\n",
       "    <tr>\n",
       "      <th>4</th>\n",
       "      <td>ai-01-00</td>\n",
       "      <td>Antibacterials</td>\n",
       "    </tr>\n",
       "    <tr>\n",
       "      <th>...</th>\n",
       "      <td>...</td>\n",
       "      <td>...</td>\n",
       "    </tr>\n",
       "    <tr>\n",
       "      <th>246</th>\n",
       "      <td>vs-00-00</td>\n",
       "      <td>Contrast Medium</td>\n",
       "    </tr>\n",
       "    <tr>\n",
       "      <th>247</th>\n",
       "      <td>vs-01-00</td>\n",
       "      <td>Contrast Agents</td>\n",
       "    </tr>\n",
       "    <tr>\n",
       "      <th>248</th>\n",
       "      <td>vs-01-01</td>\n",
       "      <td>X Ray Contrast Agent</td>\n",
       "    </tr>\n",
       "    <tr>\n",
       "      <th>249</th>\n",
       "      <td>vs-01-03</td>\n",
       "      <td>Magnetic Resonance Imaging Contrast Media</td>\n",
       "    </tr>\n",
       "    <tr>\n",
       "      <th>250</th>\n",
       "      <td>vs-01-05</td>\n",
       "      <td>Other Diagnostic Agent</td>\n",
       "    </tr>\n",
       "  </tbody>\n",
       "</table>\n",
       "<p>251 rows × 2 columns</p>\n",
       "</div>"
      ],
      "text/plain": [
       "         code                                       name\n",
       "0    ad-00-00                                  Antidotes\n",
       "1    ad-01-00                          General Antidotes\n",
       "2    ad-02-00                         Specific Antidotes\n",
       "3    ai-00-00                      Anti-Infective Agents\n",
       "4    ai-01-00                             Antibacterials\n",
       "..        ...                                        ...\n",
       "246  vs-00-00                            Contrast Medium\n",
       "247  vs-01-00                            Contrast Agents\n",
       "248  vs-01-01                       X Ray Contrast Agent\n",
       "249  vs-01-03  Magnetic Resonance Imaging Contrast Media\n",
       "250  vs-01-05                     Other Diagnostic Agent\n",
       "\n",
       "[251 rows x 2 columns]"
      ]
     },
     "execution_count": 9,
     "metadata": {},
     "output_type": "execute_result"
    }
   ],
   "source": [
    "out = df_cat2.merge(ref, on='code', how='left')\n",
    "out"
   ]
  },
  {
   "cell_type": "code",
   "execution_count": 10,
   "id": "6221bf69",
   "metadata": {
    "ExecuteTime": {
     "end_time": "2021-10-26T07:39:47.308912Z",
     "start_time": "2021-10-26T07:39:47.297943Z"
    }
   },
   "outputs": [
    {
     "data": {
      "text/html": [
       "<div>\n",
       "<style scoped>\n",
       "    .dataframe tbody tr th:only-of-type {\n",
       "        vertical-align: middle;\n",
       "    }\n",
       "\n",
       "    .dataframe tbody tr th {\n",
       "        vertical-align: top;\n",
       "    }\n",
       "\n",
       "    .dataframe thead th {\n",
       "        text-align: right;\n",
       "    }\n",
       "</style>\n",
       "<table border=\"1\" class=\"dataframe\">\n",
       "  <thead>\n",
       "    <tr style=\"text-align: right;\">\n",
       "      <th></th>\n",
       "      <th>code</th>\n",
       "      <th>name</th>\n",
       "    </tr>\n",
       "  </thead>\n",
       "  <tbody>\n",
       "    <tr>\n",
       "      <th>0</th>\n",
       "      <td>ad-00-00</td>\n",
       "      <td>Antidotes</td>\n",
       "    </tr>\n",
       "    <tr>\n",
       "      <th>1</th>\n",
       "      <td>ad-01-00</td>\n",
       "      <td>General Antidotes</td>\n",
       "    </tr>\n",
       "    <tr>\n",
       "      <th>2</th>\n",
       "      <td>ad-02-00</td>\n",
       "      <td>Specific Antidotes</td>\n",
       "    </tr>\n",
       "    <tr>\n",
       "      <th>3</th>\n",
       "      <td>ai-00-00</td>\n",
       "      <td>Anti-Infective Agents</td>\n",
       "    </tr>\n",
       "    <tr>\n",
       "      <th>4</th>\n",
       "      <td>ai-01-00</td>\n",
       "      <td>Antibacterials</td>\n",
       "    </tr>\n",
       "    <tr>\n",
       "      <th>...</th>\n",
       "      <td>...</td>\n",
       "      <td>...</td>\n",
       "    </tr>\n",
       "    <tr>\n",
       "      <th>246</th>\n",
       "      <td>vs-00-00</td>\n",
       "      <td>Contrast Medium</td>\n",
       "    </tr>\n",
       "    <tr>\n",
       "      <th>247</th>\n",
       "      <td>vs-01-00</td>\n",
       "      <td>Contrast Agents</td>\n",
       "    </tr>\n",
       "    <tr>\n",
       "      <th>248</th>\n",
       "      <td>vs-01-01</td>\n",
       "      <td>X Ray Contrast Agent</td>\n",
       "    </tr>\n",
       "    <tr>\n",
       "      <th>249</th>\n",
       "      <td>vs-01-03</td>\n",
       "      <td>Magnetic Resonance Imaging Contrast Media</td>\n",
       "    </tr>\n",
       "    <tr>\n",
       "      <th>250</th>\n",
       "      <td>vs-01-05</td>\n",
       "      <td>Other Diagnostic Agent</td>\n",
       "    </tr>\n",
       "  </tbody>\n",
       "</table>\n",
       "<p>251 rows × 2 columns</p>\n",
       "</div>"
      ],
      "text/plain": [
       "         code                                       name\n",
       "0    ad-00-00                                  Antidotes\n",
       "1    ad-01-00                          General Antidotes\n",
       "2    ad-02-00                         Specific Antidotes\n",
       "3    ai-00-00                      Anti-Infective Agents\n",
       "4    ai-01-00                             Antibacterials\n",
       "..        ...                                        ...\n",
       "246  vs-00-00                            Contrast Medium\n",
       "247  vs-01-00                            Contrast Agents\n",
       "248  vs-01-01                       X Ray Contrast Agent\n",
       "249  vs-01-03  Magnetic Resonance Imaging Contrast Media\n",
       "250  vs-01-05                     Other Diagnostic Agent\n",
       "\n",
       "[251 rows x 2 columns]"
      ]
     },
     "execution_count": 10,
     "metadata": {},
     "output_type": "execute_result"
    }
   ],
   "source": [
    "out.loc[(out['code'].str.len() == 8)]"
   ]
  },
  {
   "cell_type": "code",
   "execution_count": 11,
   "id": "02229cb9",
   "metadata": {
    "ExecuteTime": {
     "end_time": "2021-10-26T07:39:52.608961Z",
     "start_time": "2021-10-26T07:39:52.577018Z"
    }
   },
   "outputs": [],
   "source": [
    "out = out.loc[(out['code'].str.len() == 8)]\n",
    "out.to_excel('cat_ref2.xlsx', encoding='utf-8', index=0) "
   ]
  },
  {
   "cell_type": "code",
   "execution_count": null,
   "id": "cb9bf357",
   "metadata": {},
   "outputs": [],
   "source": []
  }
 ],
 "metadata": {
  "kernelspec": {
   "display_name": "Python 3 (ipykernel)",
   "language": "python",
   "name": "python3"
  },
  "language_info": {
   "codemirror_mode": {
    "name": "ipython",
    "version": 3
   },
   "file_extension": ".py",
   "mimetype": "text/x-python",
   "name": "python",
   "nbconvert_exporter": "python",
   "pygments_lexer": "ipython3",
   "version": "3.9.6"
  },
  "varInspector": {
   "cols": {
    "lenName": 16,
    "lenType": 16,
    "lenVar": 40
   },
   "kernels_config": {
    "python": {
     "delete_cmd_postfix": "",
     "delete_cmd_prefix": "del ",
     "library": "var_list.py",
     "varRefreshCmd": "print(var_dic_list())"
    },
    "r": {
     "delete_cmd_postfix": ") ",
     "delete_cmd_prefix": "rm(",
     "library": "var_list.r",
     "varRefreshCmd": "cat(var_dic_list()) "
    }
   },
   "types_to_exclude": [
    "module",
    "function",
    "builtin_function_or_method",
    "instance",
    "_Feature"
   ],
   "window_display": false
  }
 },
 "nbformat": 4,
 "nbformat_minor": 5
}
