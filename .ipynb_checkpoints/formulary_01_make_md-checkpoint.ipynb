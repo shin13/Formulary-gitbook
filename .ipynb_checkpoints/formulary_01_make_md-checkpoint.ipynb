{
 "cells": [
  {
   "cell_type": "code",
   "execution_count": 1,
   "id": "e8f8febe",
   "metadata": {
    "ExecuteTime": {
     "end_time": "2021-10-27T08:56:58.362256Z",
     "start_time": "2021-10-27T08:56:57.759813Z"
    }
   },
   "outputs": [],
   "source": [
    "import pandas as pd\n",
    "import numpy as np"
   ]
  },
  {
   "cell_type": "code",
   "execution_count": 2,
   "id": "0c1772ba",
   "metadata": {
    "ExecuteTime": {
     "end_time": "2021-10-27T08:57:02.781134Z",
     "start_time": "2021-10-27T08:56:59.495958Z"
    }
   },
   "outputs": [],
   "source": [
    "# read drug basic data\n",
    "df1 = pd.read_excel('1.藥品基本檔.xlsx')\n",
    "df2 = pd.read_excel('2.藥物諮詢.xlsx')\n",
    "exclude = pd.read_excel('exclude.xlsx')"
   ]
  },
  {
   "cell_type": "code",
   "execution_count": 3,
   "id": "6e537d9c",
   "metadata": {
    "ExecuteTime": {
     "end_time": "2021-10-27T08:58:09.347736Z",
     "start_time": "2021-10-27T08:58:09.328787Z"
    }
   },
   "outputs": [],
   "source": [
    "# drug selection\n",
    "df1 = df1[(df1['藥品狀態'] == '可用')]\n",
    "\n",
    "exclude_list = ['廠商缺貨，可查類似藥', '停用', '廠商缺貨', '停用，可查類似藥']\n",
    "df1 = df1[~df1['DC註記'].isin(exclude_list)]\n",
    "\n",
    "exclude_list = exclude.iloc[:,0].tolist()\n",
    "df1 = df1[~df1['藥品代碼'].isin(exclude_list)]  # exclude drugs in exclusion list\n",
    "\n",
    "df1 = df1.dropna(subset=['藥理分類2'])  # exclude empty & weird category 2\n",
    "exclude_list2 = ['MEDD', 'ZOTH', 'PHR']\n",
    "df1 = df1[~df1['藥理分類2'].isin(exclude_list2)]"
   ]
  },
  {
   "cell_type": "code",
   "execution_count": 4,
   "id": "c05c1e30",
   "metadata": {
    "ExecuteTime": {
     "end_time": "2021-10-27T08:58:31.762359Z",
     "start_time": "2021-10-27T08:58:31.752356Z"
    }
   },
   "outputs": [],
   "source": [
    "df1 = df1[['藥品代碼', '商品英文名稱', '商品學名', '藥理分類1', '藥理分類2', 'DC註記']]\n",
    "df2 = df2[['藥品代碼', '適應症', '用法用量', '肝功能異常(Y/N)', '腎功能異常(Y/N)', '禁忌', '副作用', '孕期用藥建議', '哺乳期用藥建議']]\n",
    "df = df1.merge(df2, on='藥品代碼', how='left')"
   ]
  },
  {
   "cell_type": "code",
   "execution_count": 5,
   "id": "7856addb",
   "metadata": {
    "ExecuteTime": {
     "end_time": "2021-10-27T08:58:32.960949Z",
     "start_time": "2021-10-27T08:58:32.951962Z"
    }
   },
   "outputs": [],
   "source": [
    "df = df.rename(columns={'肝功能異常(Y/N)': '肝功能異常', '腎功能異常(Y/N)': '腎功能異常', '孕期用藥建議': '孕期建議', '哺乳期用藥建議': '哺乳期建議'})\n",
    "df = df.replace(np.nan, 'No Data')\n",
    "df['DC註記'] = df['DC註記'].replace('No Data', '')\n",
    "df['DC註記'] = df['DC註記'].replace('臨採藥，請通知藥局外購', '臨採')"
   ]
  },
  {
   "cell_type": "code",
   "execution_count": 6,
   "id": "1085732f",
   "metadata": {
    "ExecuteTime": {
     "end_time": "2021-10-27T08:58:38.943411Z",
     "start_time": "2021-10-27T08:58:38.816575Z"
    },
    "code_folding": []
   },
   "outputs": [],
   "source": [
    "# make file directories\n",
    "import os\n",
    "\n",
    "try:\n",
    "    path = 'C:\\\\Users\\\\152551\\\\formulary-gitbook\\\\toc'\n",
    "    # path = '/Users/shin/formulary/toc'\n",
    "    os.mkdir(path)\n",
    "except:\n",
    "    pass\n",
    "cat2_li = df['藥理分類2'].unique().tolist()\n",
    "for cat in cat2_li:\n",
    "    if cat[-3] == '-':\n",
    "        try:\n",
    "            path = 'C:\\\\Users\\\\152551\\\\formulary-gitbook\\\\toc\\\\' + \\\n",
    "            cat[:3].lower() + '00-00\\\\'\n",
    "            # path = '/Users/shin/formulary/toc/' + cat[:3].lower() + '00-00/'\n",
    "            os.mkdir(path)\n",
    "        except:\n",
    "            pass\n",
    "    else:\n",
    "        pass\n",
    "\n",
    "for cat in cat2_li:\n",
    "    if cat[-2:] == \"00\":\n",
    "        try:\n",
    "            path = 'C:\\\\Users\\\\152551\\\\formulary-gitbook\\\\toc\\\\' + \\\n",
    "            cat[:3].lower() + '00-00\\\\' + cat.lower() + '\\\\'\n",
    "            # path = '/Users/shin/formulary/toc/' + cat[:3].lower() + '00-00/' + cat.lower() + '/'\n",
    "            os.mkdir(path)\n",
    "        except:\n",
    "            pass\n",
    "    elif (cat[-2:] != \"00\") & (len(cat) == 8):\n",
    "        try:\n",
    "            path = 'C:\\\\Users\\\\152551\\\\formulary-gitbook\\\\toc\\\\' + \\\n",
    "            cat[:3].lower() + '00-00\\\\' + cat[:6].lower() + '00\\\\'\n",
    "            os.mkdir(path)\n",
    "        except:\n",
    "            pass\n",
    "        try:\n",
    "            path = 'C:\\\\Users\\\\152551\\\\formulary-gitbook\\\\toc\\\\' + \\\n",
    "            cat[:3].lower() + '00-00\\\\' + cat[:6].lower() + '00\\\\' + cat.lower() + '\\\\'\n",
    "            # path = '/Users/shin/formulary/toc/' + cat[:3].lower() + '00-00/' + cat[:6].lower() + '00/'+ cat.lower() + '/'\n",
    "            os.mkdir(path)\n",
    "        except:\n",
    "            pass\n",
    "    else:\n",
    "        try:\n",
    "            path = 'C:\\\\Users\\\\152551\\\\formulary-gitbook\\\\toc\\\\' + cat.lower() + '\\\\'\n",
    "            # path = '/Users/shin/formulary/toc/' + cat.lower()\n",
    "            os.mkdir(path)\n",
    "        except:\n",
    "            pass"
   ]
  },
  {
   "cell_type": "code",
   "execution_count": 7,
   "id": "d34fdcf5",
   "metadata": {
    "ExecuteTime": {
     "end_time": "2021-10-27T08:58:43.708311Z",
     "start_time": "2021-10-27T08:58:43.694308Z"
    }
   },
   "outputs": [],
   "source": [
    "# add path to each drug (to save markdown files)\n",
    "toc1 = []\n",
    "toc2 = []\n",
    "toc3 = []\n",
    "for i in df['藥理分類2'].tolist():\n",
    "    if i[-2:] == '00':\n",
    "        toc1.append(i[:2].lower() + r'-00-00')\n",
    "        toc2.append(i.lower())\n",
    "        toc3.append(np.nan)\n",
    "    elif (i[-2:] != \"00\") & (len(i) == 8):\n",
    "        toc1.append(i[:2].lower() + r'-00-00')\n",
    "        toc2.append(i[:5].lower() + r'-00')\n",
    "        toc3.append(i.lower())\n",
    "    else:\n",
    "        toc1.append(i.lower())\n",
    "        toc2.append(np.nan)\n",
    "        toc3.append(np.nan)\n",
    "df['toc1'] = toc1\n",
    "df['toc2'] = toc2\n",
    "df['toc3'] = toc3\n",
    "\n",
    "df['drug_name'] = df['商品學名'].str.lower()\n",
    "li = df['drug_name'].tolist()\n",
    "new_li = []\n",
    "for i in li:\n",
    "    i = i.replace(' + ', '_and_')\n",
    "    i = i.replace(' & ', '_and_')\n",
    "    i = i.replace('+', '_and_')\n",
    "    i = i.replace('/', '-')\n",
    "    i = i.replace(' ', '_')\n",
    "    new_li.append(i)\n",
    "df['drug_name'] = new_li\n",
    "df['name_md'] = df['drug_name'] + '.md'"
   ]
  },
  {
   "cell_type": "code",
   "execution_count": 8,
   "id": "087d0880",
   "metadata": {
    "ExecuteTime": {
     "end_time": "2021-10-27T08:59:44.253609Z",
     "start_time": "2021-10-27T08:59:44.207732Z"
    }
   },
   "outputs": [],
   "source": [
    "def func2(row):\n",
    "    if pd.isna(row.toc2) & pd.isna(row.toc3):\n",
    "        string = ['C:\\\\Users\\\\152551\\\\formulary-gitbook\\\\toc',\n",
    "                  row['toc1'], row['name_md']]\n",
    "#         string = ['/Users/shin/formulary/toc', row['toc1'], row['name_md']]\n",
    "        return \"\\\\\".join(string)\n",
    "    elif pd.notna(row.toc3):\n",
    "        string = ['C:\\\\Users\\\\152551\\\\formulary-gitbook\\\\toc',\n",
    "                  row['toc1'], row['toc2'], row['toc3'], row['name_md']]\n",
    "#         string = ['/Users/shin/formulary/toc', row['toc1'], row['toc2'], row['toc3'], row['name_md']]\n",
    "        return \"\\\\\".join(string)\n",
    "    else:\n",
    "        string = ['C:\\\\Users\\\\152551\\\\formulary-gitbook\\\\toc',\n",
    "                  row['toc1'], row['toc2'], row['name_md']]\n",
    "#         string = ['/Users/shin/formulary/toc', row['toc1'], row['toc2'], row['name_md']]\n",
    "        return \"\\\\\".join(string)\n",
    "\n",
    "\n",
    "df['url'] = df.apply(func2, axis=1)\n",
    "df = df.sort_values(by=['藥理分類2'])"
   ]
  },
  {
   "cell_type": "code",
   "execution_count": 10,
   "id": "d9f3351b",
   "metadata": {
    "ExecuteTime": {
     "end_time": "2021-10-27T09:00:41.684052Z",
     "start_time": "2021-10-27T09:00:37.310833Z"
    }
   },
   "outputs": [],
   "source": [
    "# write markdown files and save\n",
    "cat2_li = df['藥理分類2'].unique().tolist()\n",
    "\n",
    "# go through Category 2\n",
    "for cat2 in cat2_li:\n",
    "    df_cat2 = df[df['藥理分類2'] == cat2]\n",
    "    \n",
    "    # go through drug names under each Category 2\n",
    "    names = df_cat2['商品學名'].unique().tolist()\n",
    "    for name in names:\n",
    "        df_name = df_cat2[df_cat2['商品學名'] == name]\n",
    "        df_name = df_name.sort_values(by=['藥品代碼'], ascending=True).reset_index(drop=True)\n",
    "        # find drug codes with a same drug name, and go through codes with a same drug name\n",
    "        code_list = df_name['藥品代碼'].tolist()\n",
    "        df_name.set_index('藥品代碼', inplace=True)\n",
    "        # because drugs with a same drug name would be written in a same file, the saving path is the same\n",
    "        filepath = df_name.iloc[0]['url']\n",
    "        with open(filepath, \"w\", encoding='utf-8') as f:\n",
    "            title1 = '# ' + name + '\\n\\n'\n",
    "            f.write(title1)\n",
    "            for code in code_list:\n",
    "                prodname = df_name.loc[code, '商品英文名稱']\n",
    "                title2 = '## ' + prodname + '\\n\\n'\n",
    "                f.write(title2)\n",
    "\n",
    "                note = df_name.loc[code, 'DC註記']\n",
    "                try:\n",
    "                    title3 = '##### ' + note + '\\n\\n'\n",
    "                except:\n",
    "                    title3 = ''\n",
    "                f.write(title3)\n",
    "\n",
    "                df_tb = df_name.loc[code,'適應症':'哺乳期建議'].reset_index()\n",
    "                df_tb.columns = ['藥品代碼', code]\n",
    "                content = df_tb.to_markdown(index=0)\n",
    "                f.write(content)\n",
    "\n",
    "                f.write('\\n\\n')"
   ]
  },
  {
   "cell_type": "code",
   "execution_count": null,
   "id": "1d7f75de",
   "metadata": {},
   "outputs": [],
   "source": []
  }
 ],
 "metadata": {
  "kernelspec": {
   "display_name": "Python 3 (ipykernel)",
   "language": "python",
   "name": "python3"
  },
  "language_info": {
   "codemirror_mode": {
    "name": "ipython",
    "version": 3
   },
   "file_extension": ".py",
   "mimetype": "text/x-python",
   "name": "python",
   "nbconvert_exporter": "python",
   "pygments_lexer": "ipython3",
   "version": "3.9.6"
  },
  "varInspector": {
   "cols": {
    "lenName": 16,
    "lenType": 16,
    "lenVar": 40
   },
   "kernels_config": {
    "python": {
     "delete_cmd_postfix": "",
     "delete_cmd_prefix": "del ",
     "library": "var_list.py",
     "varRefreshCmd": "print(var_dic_list())"
    },
    "r": {
     "delete_cmd_postfix": ") ",
     "delete_cmd_prefix": "rm(",
     "library": "var_list.r",
     "varRefreshCmd": "cat(var_dic_list()) "
    }
   },
   "types_to_exclude": [
    "module",
    "function",
    "builtin_function_or_method",
    "instance",
    "_Feature"
   ],
   "window_display": false
  }
 },
 "nbformat": 4,
 "nbformat_minor": 5
}
